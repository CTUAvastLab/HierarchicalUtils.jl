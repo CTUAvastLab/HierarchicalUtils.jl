{
 "cells": [
  {
   "cell_type": "markdown",
   "metadata": {},
   "source": [
    "### Mill integration\n",
    "\n",
    "In this specific example, we show, how `HierarchicalUtils.jl` can be used with `Mill.jl` library"
   ]
  },
  {
   "cell_type": "code",
   "execution_count": 5,
   "metadata": {},
   "outputs": [
    {
     "name": "stderr",
     "output_type": "stream",
     "text": [
      "\u001b[32m\u001b[1m Activating\u001b[22m\u001b[39m environment at `~/.julia/dev/HierarchicalUtils/examples/Project.toml`\n"
     ]
    }
   ],
   "source": [
    "using Pkg\n",
    "pkg\"activate\"\n",
    "using HierarchicalUtils\n",
    "using Mill"
   ]
  },
  {
   "cell_type": "code",
   "execution_count": 6,
   "metadata": {},
   "outputs": [
    {
     "data": {
      "text/plain": [
       "\u001b[31mProductNode\u001b[39m\n",
       "\u001b[31m  ├── ch1: \u001b[39m\u001b[32mProductNode\u001b[39m\n",
       "\u001b[31m  │        \u001b[39m\u001b[32m  ├── ch1: \u001b[39m\u001b[33mBagNode with 3 bag(s)\u001b[39m\n",
       "\u001b[31m  │        \u001b[39m\u001b[32m  │        \u001b[39m\u001b[33m  ⋮\u001b[39m\n",
       "\u001b[31m  │        \u001b[39m\u001b[32m  └── ch2: \u001b[39m\u001b[33mBagNode with 3 bag(s)\u001b[39m\n",
       "\u001b[31m  │        \u001b[39m\u001b[32m           \u001b[39m\u001b[33m  ⋮\u001b[39m\n",
       "\u001b[31m  ├── ch2: \u001b[39m\u001b[32mProductNode\u001b[39m\n",
       "\u001b[31m  │        \u001b[39m\u001b[32m  ├── ch1: \u001b[39m\u001b[33mBagNode with 3 bag(s)\u001b[39m\n",
       "\u001b[31m  │        \u001b[39m\u001b[32m  │        \u001b[39m\u001b[33m  ⋮\u001b[39m\n",
       "\u001b[31m  │        \u001b[39m\u001b[32m  └── ch2: \u001b[39m\u001b[33mBagNode with 3 bag(s)\u001b[39m\n",
       "\u001b[31m  │        \u001b[39m\u001b[32m           \u001b[39m\u001b[33m  ⋮\u001b[39m\n",
       "\u001b[31m  └── ch3: \u001b[39m\u001b[32mProductNode\u001b[39m\n",
       "\u001b[31m           \u001b[39m\u001b[32m  ├── ch1: \u001b[39m\u001b[33mBagNode with 3 bag(s)\u001b[39m\n",
       "\u001b[31m           \u001b[39m\u001b[32m  │        \u001b[39m\u001b[33m  ⋮\u001b[39m\n",
       "\u001b[31m           \u001b[39m\u001b[32m  └── ch2: \u001b[39m\u001b[33mBagNode with 3 bag(s)\u001b[39m\n",
       "\u001b[31m           \u001b[39m\u001b[32m           \u001b[39m\u001b[33m  ⋮\u001b[39m"
      ]
     },
     "execution_count": 6,
     "metadata": {},
     "output_type": "execute_result"
    }
   ],
   "source": [
    "n1 = BagNode(BagNode(ArrayNode(randn(4,10)),[1:2,3:4,5:5,6:7,8:10]),[1:1,2:3,4:5])\n",
    "n2 = ProductNode((ch1 = n1, ch2 = deepcopy(n1)))\n",
    "ds = ProductNode((ch1 = n2, ch2 = deepcopy(n2), ch3 = deepcopy(n2)))"
   ]
  },
  {
   "cell_type": "code",
   "execution_count": 8,
   "metadata": {},
   "outputs": [
    {
     "name": "stdout",
     "output_type": "stream",
     "text": [
      "\u001b[31mProductNode\u001b[39m\n",
      "\u001b[31m  ├── ch1: \u001b[39m\u001b[32mProductNode\u001b[39m\n",
      "\u001b[31m  │        \u001b[39m\u001b[32m  ├── ch1: \u001b[39m\u001b[33mBagNode with 3 bag(s)\u001b[39m\n",
      "\u001b[31m  │        \u001b[39m\u001b[32m  │        \u001b[39m\u001b[33m  └── \u001b[39m\u001b[36mBagNode with 5 bag(s)\u001b[39m\n",
      "\u001b[31m  │        \u001b[39m\u001b[32m  │        \u001b[39m\u001b[33m      \u001b[39m\u001b[36m  └── \u001b[39m\u001b[37mArrayNode(4, 10)\u001b[39m\n",
      "\u001b[31m  │        \u001b[39m\u001b[32m  └── ch2: \u001b[39m\u001b[33mBagNode with 3 bag(s)\u001b[39m\n",
      "\u001b[31m  │        \u001b[39m\u001b[32m           \u001b[39m\u001b[33m  └── \u001b[39m\u001b[36mBagNode with 5 bag(s)\u001b[39m\n",
      "\u001b[31m  │        \u001b[39m\u001b[32m           \u001b[39m\u001b[33m      \u001b[39m\u001b[36m  └── \u001b[39m\u001b[37mArrayNode(4, 10)\u001b[39m\n",
      "\u001b[31m  ├── ch2: \u001b[39m\u001b[32mProductNode\u001b[39m\n",
      "\u001b[31m  │        \u001b[39m\u001b[32m  ├── ch1: \u001b[39m\u001b[33mBagNode with 3 bag(s)\u001b[39m\n",
      "\u001b[31m  │        \u001b[39m\u001b[32m  │        \u001b[39m\u001b[33m  └── \u001b[39m\u001b[36mBagNode with 5 bag(s)\u001b[39m\n",
      "\u001b[31m  │        \u001b[39m\u001b[32m  │        \u001b[39m\u001b[33m      \u001b[39m\u001b[36m  └── \u001b[39m\u001b[37mArrayNode(4, 10)\u001b[39m\n",
      "\u001b[31m  │        \u001b[39m\u001b[32m  └── ch2: \u001b[39m\u001b[33mBagNode with 3 bag(s)\u001b[39m\n",
      "\u001b[31m  │        \u001b[39m\u001b[32m           \u001b[39m\u001b[33m  └── \u001b[39m\u001b[36mBagNode with 5 bag(s)\u001b[39m\n",
      "\u001b[31m  │        \u001b[39m\u001b[32m           \u001b[39m\u001b[33m      \u001b[39m\u001b[36m  └── \u001b[39m\u001b[37mArrayNode(4, 10)\u001b[39m\n",
      "\u001b[31m  └── ch3: \u001b[39m\u001b[32mProductNode\u001b[39m\n",
      "\u001b[31m           \u001b[39m\u001b[32m  ├── ch1: \u001b[39m\u001b[33mBagNode with 3 bag(s)\u001b[39m\n",
      "\u001b[31m           \u001b[39m\u001b[32m  │        \u001b[39m\u001b[33m  └── \u001b[39m\u001b[36mBagNode with 5 bag(s)\u001b[39m\n",
      "\u001b[31m           \u001b[39m\u001b[32m  │        \u001b[39m\u001b[33m      \u001b[39m\u001b[36m  └── \u001b[39m\u001b[37mArrayNode(4, 10)\u001b[39m\n",
      "\u001b[31m           \u001b[39m\u001b[32m  └── ch2: \u001b[39m\u001b[33mBagNode with 3 bag(s)\u001b[39m\n",
      "\u001b[31m           \u001b[39m\u001b[32m           \u001b[39m\u001b[33m  └── \u001b[39m\u001b[36mBagNode with 5 bag(s)\u001b[39m\n",
      "\u001b[31m           \u001b[39m\u001b[32m           \u001b[39m\u001b[33m      \u001b[39m\u001b[36m  └── \u001b[39m\u001b[37mArrayNode(4, 10)\u001b[39m"
     ]
    }
   ],
   "source": [
    "printtree(ds)"
   ]
  },
  {
   "cell_type": "code",
   "execution_count": 9,
   "metadata": {},
   "outputs": [
    {
     "name": "stdout",
     "output_type": "stream",
     "text": [
      "\u001b[31mProductNode\u001b[39m\n",
      "\u001b[31m  ⋮\u001b[39m"
     ]
    }
   ],
   "source": [
    "printtree(ds; trunc=1)"
   ]
  },
  {
   "cell_type": "code",
   "execution_count": 10,
   "metadata": {},
   "outputs": [
    {
     "name": "stdout",
     "output_type": "stream",
     "text": [
      "\u001b[31mProductNode\u001b[39m\n",
      "\u001b[31m  ├── ch1: \u001b[39m\u001b[32mProductNode\u001b[39m\n",
      "\u001b[31m  │        \u001b[39m\u001b[32m  ⋮\u001b[39m\n",
      "\u001b[31m  ├── ch2: \u001b[39m\u001b[32mProductNode\u001b[39m\n",
      "\u001b[31m  │        \u001b[39m\u001b[32m  ⋮\u001b[39m\n",
      "\u001b[31m  └── ch3: \u001b[39m\u001b[32mProductNode\u001b[39m\n",
      "\u001b[31m           \u001b[39m\u001b[32m  ⋮\u001b[39m"
     ]
    }
   ],
   "source": [
    "printtree(ds; trunc=2)"
   ]
  },
  {
   "cell_type": "markdown",
   "metadata": {},
   "source": [
    "Default printing (overriding `Base.show`) uses `trunc = 3`"
   ]
  },
  {
   "cell_type": "code",
   "execution_count": 11,
   "metadata": {},
   "outputs": [
    {
     "name": "stdout",
     "output_type": "stream",
     "text": [
      "\u001b[31mProductNode\u001b[39m\n",
      "\u001b[31m  ├── ch1: \u001b[39m\u001b[32mProductNode\u001b[39m\n",
      "\u001b[31m  │        \u001b[39m\u001b[32m  ├── ch1: \u001b[39m\u001b[33mBagNode with 3 bag(s)\u001b[39m\n",
      "\u001b[31m  │        \u001b[39m\u001b[32m  │        \u001b[39m\u001b[33m  ⋮\u001b[39m\n",
      "\u001b[31m  │        \u001b[39m\u001b[32m  └── ch2: \u001b[39m\u001b[33mBagNode with 3 bag(s)\u001b[39m\n",
      "\u001b[31m  │        \u001b[39m\u001b[32m           \u001b[39m\u001b[33m  ⋮\u001b[39m\n",
      "\u001b[31m  ├── ch2: \u001b[39m\u001b[32mProductNode\u001b[39m\n",
      "\u001b[31m  │        \u001b[39m\u001b[32m  ├── ch1: \u001b[39m\u001b[33mBagNode with 3 bag(s)\u001b[39m\n",
      "\u001b[31m  │        \u001b[39m\u001b[32m  │        \u001b[39m\u001b[33m  ⋮\u001b[39m\n",
      "\u001b[31m  │        \u001b[39m\u001b[32m  └── ch2: \u001b[39m\u001b[33mBagNode with 3 bag(s)\u001b[39m\n",
      "\u001b[31m  │        \u001b[39m\u001b[32m           \u001b[39m\u001b[33m  ⋮\u001b[39m\n",
      "\u001b[31m  └── ch3: \u001b[39m\u001b[32mProductNode\u001b[39m\n",
      "\u001b[31m           \u001b[39m\u001b[32m  ├── ch1: \u001b[39m\u001b[33mBagNode with 3 bag(s)\u001b[39m\n",
      "\u001b[31m           \u001b[39m\u001b[32m  │        \u001b[39m\u001b[33m  ⋮\u001b[39m\n",
      "\u001b[31m           \u001b[39m\u001b[32m  └── ch2: \u001b[39m\u001b[33mBagNode with 3 bag(s)\u001b[39m\n",
      "\u001b[31m           \u001b[39m\u001b[32m           \u001b[39m\u001b[33m  ⋮\u001b[39m"
     ]
    }
   ],
   "source": [
    "printtree(ds; trunc=3)"
   ]
  },
  {
   "cell_type": "code",
   "execution_count": 12,
   "metadata": {},
   "outputs": [
    {
     "data": {
      "text/plain": [
       "22"
      ]
     },
     "execution_count": 12,
     "metadata": {},
     "output_type": "execute_result"
    }
   ],
   "source": [
    "nnodes(ds)"
   ]
  },
  {
   "cell_type": "code",
   "execution_count": 13,
   "metadata": {},
   "outputs": [
    {
     "data": {
      "text/plain": [
       "6"
      ]
     },
     "execution_count": 13,
     "metadata": {},
     "output_type": "execute_result"
    }
   ],
   "source": [
    "nleafs(ds)"
   ]
  },
  {
   "cell_type": "code",
   "execution_count": 14,
   "metadata": {},
   "outputs": [
    {
     "data": {
      "text/plain": [
       "22-element Array{AbstractNode{…},1}:\n",
       " ProductNode\n",
       " ProductNode\n",
       " BagNode\n",
       " BagNode\n",
       " ArrayNode\n",
       " BagNode\n",
       " BagNode\n",
       " ArrayNode\n",
       " ProductNode\n",
       " BagNode\n",
       " BagNode\n",
       " ArrayNode\n",
       " BagNode\n",
       " BagNode\n",
       " ArrayNode\n",
       " ProductNode\n",
       " BagNode\n",
       " BagNode\n",
       " ArrayNode\n",
       " BagNode\n",
       " BagNode\n",
       " ArrayNode"
      ]
     },
     "execution_count": 14,
     "metadata": {},
     "output_type": "execute_result"
    }
   ],
   "source": [
    "NodeIterator(ds) |> collect"
   ]
  },
  {
   "cell_type": "code",
   "execution_count": 15,
   "metadata": {},
   "outputs": [
    {
     "data": {
      "text/plain": [
       "6-element Array{ArrayNode{…},1}:\n",
       " ArrayNode\n",
       " ArrayNode\n",
       " ArrayNode\n",
       " ArrayNode\n",
       " ArrayNode\n",
       " ArrayNode"
      ]
     },
     "execution_count": 15,
     "metadata": {},
     "output_type": "execute_result"
    }
   ],
   "source": [
    "LeafIterator(ds) |> collect"
   ]
  },
  {
   "cell_type": "code",
   "execution_count": 16,
   "metadata": {},
   "outputs": [
    {
     "data": {
      "text/plain": [
       "12-element Array{BagNode{…},1}:\n",
       " BagNode\n",
       " BagNode\n",
       " BagNode\n",
       " BagNode\n",
       " BagNode\n",
       " BagNode\n",
       " BagNode\n",
       " BagNode\n",
       " BagNode\n",
       " BagNode\n",
       " BagNode\n",
       " BagNode"
      ]
     },
     "execution_count": 16,
     "metadata": {},
     "output_type": "execute_result"
    }
   ],
   "source": [
    "TypeIterator(ds, BagNode) |> collect"
   ]
  },
  {
   "cell_type": "code",
   "execution_count": 17,
   "metadata": {},
   "outputs": [
    {
     "data": {
      "text/plain": [
       "7-element Array{AbstractNode{…},1}:\n",
       " ProductNode\n",
       " BagNode\n",
       " BagNode\n",
       " BagNode\n",
       " BagNode\n",
       " BagNode\n",
       " BagNode"
      ]
     },
     "execution_count": 17,
     "metadata": {},
     "output_type": "execute_result"
    }
   ],
   "source": [
    "pred(n::BagNode) = length(n.bags) > 4\n",
    "pred(n::ProductNode) = :ch3 in keys(n.data)\n",
    "pred(n) = false\n",
    "PredicateIterator(ds, pred) |> collect"
   ]
  },
  {
   "cell_type": "code",
   "execution_count": 18,
   "metadata": {},
   "outputs": [
    {
     "data": {
      "text/plain": [
       "6-element Array{ArrayNode{…},1}:\n",
       " ArrayNode\n",
       " ArrayNode\n",
       " ArrayNode\n",
       " ArrayNode\n",
       " ArrayNode\n",
       " ArrayNode"
      ]
     },
     "execution_count": 18,
     "metadata": {},
     "output_type": "execute_result"
    }
   ],
   "source": [
    "pred2(n::ArrayNode) = size(n.data, 2) > 5\n",
    "pred2(n) = false\n",
    "PredicateIterator(ds, pred2) |> collect"
   ]
  },
  {
   "cell_type": "code",
   "execution_count": 19,
   "metadata": {},
   "outputs": [
    {
     "data": {
      "text/plain": [
       "\u001b[31mProductModel ↦ ArrayModel(Dense(30, 10))\u001b[39m\n",
       "\u001b[31m  ├── ch1: \u001b[39m\u001b[32mProductModel ↦ ArrayModel(Dense(20, 10))\u001b[39m\n",
       "\u001b[31m  │        \u001b[39m\u001b[32m  ├── ch1: \u001b[39m\u001b[33mBagModel ↦ SegmentedMean(10) ↦ ArrayModel(Dense(10, 10))\u001b[39m\n",
       "\u001b[31m  │        \u001b[39m\u001b[32m  │        \u001b[39m\u001b[33m  ⋮\u001b[39m\n",
       "\u001b[31m  │        \u001b[39m\u001b[32m  └── ch2: \u001b[39m\u001b[33mBagModel ↦ SegmentedMean(10) ↦ ArrayModel(Dense(10, 10))\u001b[39m\n",
       "\u001b[31m  │        \u001b[39m\u001b[32m           \u001b[39m\u001b[33m  ⋮\u001b[39m\n",
       "\u001b[31m  ├── ch2: \u001b[39m\u001b[32mProductModel ↦ ArrayModel(Dense(20, 10))\u001b[39m\n",
       "\u001b[31m  │        \u001b[39m\u001b[32m  ├── ch1: \u001b[39m\u001b[33mBagModel ↦ SegmentedMean(10) ↦ ArrayModel(Dense(10, 10))\u001b[39m\n",
       "\u001b[31m  │        \u001b[39m\u001b[32m  │        \u001b[39m\u001b[33m  ⋮\u001b[39m\n",
       "\u001b[31m  │        \u001b[39m\u001b[32m  └── ch2: \u001b[39m\u001b[33mBagModel ↦ SegmentedMean(10) ↦ ArrayModel(Dense(10, 10))\u001b[39m\n",
       "\u001b[31m  │        \u001b[39m\u001b[32m           \u001b[39m\u001b[33m  ⋮\u001b[39m\n",
       "\u001b[31m  └── ch3: \u001b[39m\u001b[32mProductModel ↦ ArrayModel(Dense(20, 10))\u001b[39m\n",
       "\u001b[31m           \u001b[39m\u001b[32m  ├── ch1: \u001b[39m\u001b[33mBagModel ↦ SegmentedMean(10) ↦ ArrayModel(Dense(10, 10))\u001b[39m\n",
       "\u001b[31m           \u001b[39m\u001b[32m  │        \u001b[39m\u001b[33m  ⋮\u001b[39m\n",
       "\u001b[31m           \u001b[39m\u001b[32m  └── ch2: \u001b[39m\u001b[33mBagModel ↦ SegmentedMean(10) ↦ ArrayModel(Dense(10, 10))\u001b[39m\n",
       "\u001b[31m           \u001b[39m\u001b[32m           \u001b[39m\u001b[33m  ⋮\u001b[39m"
      ]
     },
     "execution_count": 19,
     "metadata": {},
     "output_type": "execute_result"
    }
   ],
   "source": [
    "m = reflectinmodel(ds)"
   ]
  },
  {
   "cell_type": "code",
   "execution_count": 20,
   "metadata": {},
   "outputs": [
    {
     "data": {
      "text/plain": [
       "22-element Array{Tuple{AbstractMillModel{…},AbstractNode{…}},1}:\n",
       " (ProductModel, ProductNode)\n",
       " (ProductModel, ProductNode)\n",
       " (BagModel, BagNode)\n",
       " (BagModel, BagNode)\n",
       " (ArrayModel, ArrayNode)\n",
       " (BagModel, BagNode)\n",
       " (BagModel, BagNode)\n",
       " (ArrayModel, ArrayNode)\n",
       " (ProductModel, ProductNode)\n",
       " (BagModel, BagNode)\n",
       " (BagModel, BagNode)\n",
       " (ArrayModel, ArrayNode)\n",
       " (BagModel, BagNode)\n",
       " (BagModel, BagNode)\n",
       " (ArrayModel, ArrayNode)\n",
       " (ProductModel, ProductNode)\n",
       " (BagModel, BagNode)\n",
       " (BagModel, BagNode)\n",
       " (ArrayModel, ArrayNode)\n",
       " (BagModel, BagNode)\n",
       " (BagModel, BagNode)\n",
       " (ArrayModel, ArrayNode)"
      ]
     },
     "execution_count": 20,
     "metadata": {},
     "output_type": "execute_result"
    }
   ],
   "source": [
    "NodeIterator((m, ds)) |> collect"
   ]
  }
 ],
 "metadata": {
  "kernelspec": {
   "display_name": "Julia 1.4.1",
   "language": "julia",
   "name": "julia-1.4"
  },
  "language_info": {
   "file_extension": ".jl",
   "mimetype": "application/julia",
   "name": "julia",
   "version": "1.4.1"
  }
 },
 "nbformat": 4,
 "nbformat_minor": 4
}
