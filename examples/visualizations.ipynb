{
 "cells": [
  {
   "cell_type": "markdown",
   "metadata": {},
   "source": [
    "In this notebook, we show more examples of how `HierarchicalUtils.jl` can be used for simplifying operations with tree-structured data"
   ]
  },
  {
   "cell_type": "markdown",
   "metadata": {},
   "source": [
    "### BSON visualization"
   ]
  },
  {
   "cell_type": "markdown",
   "metadata": {},
   "source": [
    "Let's say we want to see under the hood of `BSON` file representation. We can do this as follows"
   ]
  },
  {
   "cell_type": "code",
   "execution_count": 1,
   "metadata": {},
   "outputs": [
    {
     "name": "stderr",
     "output_type": "stream",
     "text": [
      "\u001b[32m\u001b[1m Activating\u001b[22m\u001b[39m environment at `~/.julia/dev/HierarchicalUtils/examples/Project.toml`\n"
     ]
    }
   ],
   "source": [
    "using Pkg\n",
    "pkg\"activate\"\n",
    "using BSON\n",
    "using HierarchicalUtils"
   ]
  },
  {
   "cell_type": "code",
   "execution_count": 2,
   "metadata": {},
   "outputs": [
    {
     "data": {
      "text/plain": [
       "noderepr (generic function with 4 methods)"
      ]
     },
     "execution_count": 2,
     "metadata": {},
     "output_type": "execute_result"
    }
   ],
   "source": [
    "import HierarchicalUtils: NodeType, noderepr, children, InnerNode, LeafNode\n",
    "\n",
    "NodeType(::Type{T}) where T <: Union{AbstractString, Number, Symbol} = LeafNode()\n",
    "NodeType(::Type{DataType}) = LeafNode()\n",
    "NodeType(::Type{T}) where T <: Union{Dict, Vector} = InnerNode()\n",
    "\n",
    "children(n::Dict{T, <:Any}) where T <: Symbol =(; n...)\n",
    "children(n::Dict{T, <:Any}) where T <: AbstractString =(; Dict(Symbol(k)=>v for (k, v) in n)...)\n",
    "children(n::Vector) = tuple(n...)\n",
    "\n",
    "noderepr(n::T) where T <: Union{AbstractString, Number, DataType, Symbol} =\"$n\"\n",
    "noderepr(n::Dict) = \"Dict of\"\n",
    "noderepr(n::Vector) = \"Vector of\""
   ]
  },
  {
   "cell_type": "markdown",
   "metadata": {},
   "source": [
    "Note that the same behavior can be achieved for `Vector`s and `Dicts` with macros `@hierarchical_dict` and `@hierarchical_vector`, respectively. In a similar vain, `@hierarchical_tuple`, `@hierarchical_namedtuple` and `@hierarchical_pairvector` are available. Also, `@primitives` macro defines all primitive types and strings in julia as leaves."
   ]
  },
  {
   "cell_type": "markdown",
   "metadata": {},
   "source": [
    "Let's create some dummy data to test it with"
   ]
  },
  {
   "cell_type": "code",
   "execution_count": 3,
   "metadata": {},
   "outputs": [
    {
     "data": {
      "text/plain": [
       "Dict{Symbol,Any} with 1 entry:\n",
       "  :a => Any[Dict{Symbol,Any}(:tag=>\"symbol\",:name=>\"Foo\"), \"Bar\", Any[1, \"Baz\",…"
      ]
     },
     "execution_count": 3,
     "metadata": {},
     "output_type": "execute_result"
    }
   ],
   "source": [
    "a = [:Foo, \"Bar\", [1, \"Baz\", [π], r\".*\"]]\n",
    "buff = IOBuffer()\n",
    "BSON.bson(buff, Dict(:a => a))\n",
    "seek(buff, 0)\n",
    "bson_struct = BSON.parse(buff)"
   ]
  },
  {
   "cell_type": "code",
   "execution_count": 4,
   "metadata": {},
   "outputs": [
    {
     "name": "stdout",
     "output_type": "stream",
     "text": [
      "\u001b[34mDict of\u001b[39m\n",
      "\u001b[34m  └── a: \u001b[39m\u001b[31mVector of\u001b[39m\n",
      "\u001b[34m         \u001b[39m\u001b[31m  ├── \u001b[39m\u001b[32mDict of\u001b[39m\n",
      "\u001b[34m         \u001b[39m\u001b[31m  │   \u001b[39m\u001b[32m  ├── name: \u001b[39m\u001b[37mFoo\u001b[39m\n",
      "\u001b[34m         \u001b[39m\u001b[31m  │   \u001b[39m\u001b[32m  └─── tag: \u001b[39m\u001b[37msymbol\u001b[39m\n",
      "\u001b[34m         \u001b[39m\u001b[31m  ├── \u001b[39m\u001b[37mBar\u001b[39m\n",
      "\u001b[34m         \u001b[39m\u001b[31m  └── \u001b[39m\u001b[32mVector of\u001b[39m\n",
      "\u001b[34m         \u001b[39m\u001b[31m      \u001b[39m\u001b[32m  ├── \u001b[39m\u001b[37m1\u001b[39m\n",
      "\u001b[34m         \u001b[39m\u001b[31m      \u001b[39m\u001b[32m  ├── \u001b[39m\u001b[37mBaz\u001b[39m\n",
      "\u001b[34m         \u001b[39m\u001b[31m      \u001b[39m\u001b[32m  ├── \u001b[39m\u001b[33mDict of\u001b[39m\n",
      "\u001b[34m         \u001b[39m\u001b[31m      \u001b[39m\u001b[32m  │   \u001b[39m\u001b[33m  ├── data: \u001b[39m\u001b[36mVector of\u001b[39m\n",
      "\u001b[34m         \u001b[39m\u001b[31m      \u001b[39m\u001b[32m  │   \u001b[39m\u001b[33m  ├── size: \u001b[39m\u001b[36mVector of\u001b[39m\n",
      "\u001b[34m         \u001b[39m\u001b[31m      \u001b[39m\u001b[32m  │   \u001b[39m\u001b[33m  │         \u001b[39m\u001b[36m  └── \u001b[39m\u001b[37m1\u001b[39m\n",
      "\u001b[34m         \u001b[39m\u001b[31m      \u001b[39m\u001b[32m  │   \u001b[39m\u001b[33m  ├─── tag: \u001b[39m\u001b[37marray\u001b[39m\n",
      "\u001b[34m         \u001b[39m\u001b[31m      \u001b[39m\u001b[32m  │   \u001b[39m\u001b[33m  └── type: \u001b[39m\u001b[36mDict of\u001b[39m\n",
      "\u001b[34m         \u001b[39m\u001b[31m      \u001b[39m\u001b[32m  │   \u001b[39m\u001b[33m            \u001b[39m\u001b[36m  ├──── name: \u001b[39m\u001b[35mVector of\u001b[39m\n",
      "\u001b[34m         \u001b[39m\u001b[31m      \u001b[39m\u001b[32m  │   \u001b[39m\u001b[33m            \u001b[39m\u001b[36m  │           \u001b[39m\u001b[35m  ├── \u001b[39m\u001b[37mMain\u001b[39m\n",
      "\u001b[34m         \u001b[39m\u001b[31m      \u001b[39m\u001b[32m  │   \u001b[39m\u001b[33m            \u001b[39m\u001b[36m  │           \u001b[39m\u001b[35m  ├── \u001b[39m\u001b[37mBase\u001b[39m\n",
      "\u001b[34m         \u001b[39m\u001b[31m      \u001b[39m\u001b[32m  │   \u001b[39m\u001b[33m            \u001b[39m\u001b[36m  │           \u001b[39m\u001b[35m  └── \u001b[39m\u001b[37mIrrational\u001b[39m\n",
      "\u001b[34m         \u001b[39m\u001b[31m      \u001b[39m\u001b[32m  │   \u001b[39m\u001b[33m            \u001b[39m\u001b[36m  ├── params: \u001b[39m\u001b[35mVector of\u001b[39m\n",
      "\u001b[34m         \u001b[39m\u001b[31m      \u001b[39m\u001b[32m  │   \u001b[39m\u001b[33m            \u001b[39m\u001b[36m  │           \u001b[39m\u001b[35m  └── \u001b[39m\u001b[34mDict of\u001b[39m\n",
      "\u001b[34m         \u001b[39m\u001b[31m      \u001b[39m\u001b[32m  │   \u001b[39m\u001b[33m            \u001b[39m\u001b[36m  │           \u001b[39m\u001b[35m      \u001b[39m\u001b[34m  ├── name: \u001b[39m\u001b[37mπ\u001b[39m\n",
      "\u001b[34m         \u001b[39m\u001b[31m      \u001b[39m\u001b[32m  │   \u001b[39m\u001b[33m            \u001b[39m\u001b[36m  │           \u001b[39m\u001b[35m      \u001b[39m\u001b[34m  └─── tag: \u001b[39m\u001b[37msymbol\u001b[39m\n",
      "\u001b[34m         \u001b[39m\u001b[31m      \u001b[39m\u001b[32m  │   \u001b[39m\u001b[33m            \u001b[39m\u001b[36m  └───── tag: \u001b[39m\u001b[37mdatatype\u001b[39m\n",
      "\u001b[34m         \u001b[39m\u001b[31m      \u001b[39m\u001b[32m  └── \u001b[39m\u001b[33mDict of\u001b[39m\n",
      "\u001b[34m         \u001b[39m\u001b[31m      \u001b[39m\u001b[32m      \u001b[39m\u001b[33m  ├── data: \u001b[39m\u001b[36mVector of\u001b[39m\n",
      "\u001b[34m         \u001b[39m\u001b[31m      \u001b[39m\u001b[32m      \u001b[39m\u001b[33m  │         \u001b[39m\u001b[36m  ├── \u001b[39m\u001b[37m.*\u001b[39m\n",
      "\u001b[34m         \u001b[39m\u001b[31m      \u001b[39m\u001b[32m      \u001b[39m\u001b[33m  │         \u001b[39m\u001b[36m  ├── \u001b[39m\u001b[35mDict of\u001b[39m\n",
      "\u001b[34m         \u001b[39m\u001b[31m      \u001b[39m\u001b[32m      \u001b[39m\u001b[33m  │         \u001b[39m\u001b[36m  │   \u001b[39m\u001b[35m  ├── data: \u001b[39m\u001b[34mVector of\u001b[39m\n",
      "\u001b[34m         \u001b[39m\u001b[31m      \u001b[39m\u001b[32m      \u001b[39m\u001b[33m  │         \u001b[39m\u001b[36m  │   \u001b[39m\u001b[35m  │         \u001b[39m\u001b[34m  ├── \u001b[39m\u001b[37m2\u001b[39m\n",
      "\u001b[34m         \u001b[39m\u001b[31m      \u001b[39m\u001b[32m      \u001b[39m\u001b[33m  │         \u001b[39m\u001b[36m  │   \u001b[39m\u001b[35m  │         \u001b[39m\u001b[34m  ├── \u001b[39m\u001b[37m0\u001b[39m\n",
      "\u001b[34m         \u001b[39m\u001b[31m      \u001b[39m\u001b[32m      \u001b[39m\u001b[33m  │         \u001b[39m\u001b[36m  │   \u001b[39m\u001b[35m  │         \u001b[39m\u001b[34m  ├── \u001b[39m\u001b[37m10\u001b[39m\n",
      "\u001b[34m         \u001b[39m\u001b[31m      \u001b[39m\u001b[32m      \u001b[39m\u001b[33m  │         \u001b[39m\u001b[36m  │   \u001b[39m\u001b[35m  │         \u001b[39m\u001b[34m  └── \u001b[39m\u001b[37m64\u001b[39m\n",
      "\u001b[34m         \u001b[39m\u001b[31m      \u001b[39m\u001b[32m      \u001b[39m\u001b[33m  │         \u001b[39m\u001b[36m  │   \u001b[39m\u001b[35m  ├─── tag: \u001b[39m\u001b[37mstruct\u001b[39m\n",
      "\u001b[34m         \u001b[39m\u001b[31m      \u001b[39m\u001b[32m      \u001b[39m\u001b[33m  │         \u001b[39m\u001b[36m  │   \u001b[39m\u001b[35m  └── type: \u001b[39m\u001b[34mDict of\u001b[39m\n",
      "\u001b[34m         \u001b[39m\u001b[31m      \u001b[39m\u001b[32m      \u001b[39m\u001b[33m  │         \u001b[39m\u001b[36m  │   \u001b[39m\u001b[35m            \u001b[39m\u001b[34m  ├──── name: \u001b[39m\u001b[31mVector of\u001b[39m\n",
      "\u001b[34m         \u001b[39m\u001b[31m      \u001b[39m\u001b[32m      \u001b[39m\u001b[33m  │         \u001b[39m\u001b[36m  │   \u001b[39m\u001b[35m            \u001b[39m\u001b[34m  │           \u001b[39m\u001b[31m  ├── \u001b[39m\u001b[37mCore\u001b[39m\n",
      "\u001b[34m         \u001b[39m\u001b[31m      \u001b[39m\u001b[32m      \u001b[39m\u001b[33m  │         \u001b[39m\u001b[36m  │   \u001b[39m\u001b[35m            \u001b[39m\u001b[34m  │           \u001b[39m\u001b[31m  └── \u001b[39m\u001b[37mUInt32\u001b[39m\n",
      "\u001b[34m         \u001b[39m\u001b[31m      \u001b[39m\u001b[32m      \u001b[39m\u001b[33m  │         \u001b[39m\u001b[36m  │   \u001b[39m\u001b[35m            \u001b[39m\u001b[34m  ├── params: \u001b[39m\u001b[31mVector of\u001b[39m\n",
      "\u001b[34m         \u001b[39m\u001b[31m      \u001b[39m\u001b[32m      \u001b[39m\u001b[33m  │         \u001b[39m\u001b[36m  │   \u001b[39m\u001b[35m            \u001b[39m\u001b[34m  └───── tag: \u001b[39m\u001b[37mdatatype\u001b[39m\n",
      "\u001b[34m         \u001b[39m\u001b[31m      \u001b[39m\u001b[32m      \u001b[39m\u001b[33m  │         \u001b[39m\u001b[36m  ├── \u001b[39m\u001b[35mDict of\u001b[39m\n",
      "\u001b[34m         \u001b[39m\u001b[31m      \u001b[39m\u001b[32m      \u001b[39m\u001b[33m  │         \u001b[39m\u001b[36m  │   \u001b[39m\u001b[35m  ├── data: \u001b[39m\u001b[34mVector of\u001b[39m\n",
      "\u001b[34m         \u001b[39m\u001b[31m      \u001b[39m\u001b[32m      \u001b[39m\u001b[33m  │         \u001b[39m\u001b[36m  │   \u001b[39m\u001b[35m  │         \u001b[39m\u001b[34m  ├── \u001b[39m\u001b[37m0\u001b[39m\n",
      "\u001b[34m         \u001b[39m\u001b[31m      \u001b[39m\u001b[32m      \u001b[39m\u001b[33m  │         \u001b[39m\u001b[36m  │   \u001b[39m\u001b[35m  │         \u001b[39m\u001b[34m  ├── \u001b[39m\u001b[37m0\u001b[39m\n",
      "\u001b[34m         \u001b[39m\u001b[31m      \u001b[39m\u001b[32m      \u001b[39m\u001b[33m  │         \u001b[39m\u001b[36m  │   \u001b[39m\u001b[35m  │         \u001b[39m\u001b[34m  ├── \u001b[39m\u001b[37m0\u001b[39m\n",
      "\u001b[34m         \u001b[39m\u001b[31m      \u001b[39m\u001b[32m      \u001b[39m\u001b[33m  │         \u001b[39m\u001b[36m  │   \u001b[39m\u001b[35m  │         \u001b[39m\u001b[34m  └── \u001b[39m\u001b[37m64\u001b[39m\n",
      "\u001b[34m         \u001b[39m\u001b[31m      \u001b[39m\u001b[32m      \u001b[39m\u001b[33m  │         \u001b[39m\u001b[36m  │   \u001b[39m\u001b[35m  ├─── tag: \u001b[39m\u001b[37mstruct\u001b[39m\n",
      "\u001b[34m         \u001b[39m\u001b[31m      \u001b[39m\u001b[32m      \u001b[39m\u001b[33m  │         \u001b[39m\u001b[36m  │   \u001b[39m\u001b[35m  └── type: \u001b[39m\u001b[34mDict of\u001b[39m\n",
      "\u001b[34m         \u001b[39m\u001b[31m      \u001b[39m\u001b[32m      \u001b[39m\u001b[33m  │         \u001b[39m\u001b[36m  │   \u001b[39m\u001b[35m            \u001b[39m\u001b[34m  ├──── name: \u001b[39m\u001b[31mVector of\u001b[39m\n",
      "\u001b[34m         \u001b[39m\u001b[31m      \u001b[39m\u001b[32m      \u001b[39m\u001b[33m  │         \u001b[39m\u001b[36m  │   \u001b[39m\u001b[35m            \u001b[39m\u001b[34m  │           \u001b[39m\u001b[31m  ├── \u001b[39m\u001b[37mCore\u001b[39m\n",
      "\u001b[34m         \u001b[39m\u001b[31m      \u001b[39m\u001b[32m      \u001b[39m\u001b[33m  │         \u001b[39m\u001b[36m  │   \u001b[39m\u001b[35m            \u001b[39m\u001b[34m  │           \u001b[39m\u001b[31m  └── \u001b[39m\u001b[37mUInt32\u001b[39m\n",
      "\u001b[34m         \u001b[39m\u001b[31m      \u001b[39m\u001b[32m      \u001b[39m\u001b[33m  │         \u001b[39m\u001b[36m  │   \u001b[39m\u001b[35m            \u001b[39m\u001b[34m  ├── params: \u001b[39m\u001b[31mVector of\u001b[39m\n",
      "\u001b[34m         \u001b[39m\u001b[31m      \u001b[39m\u001b[32m      \u001b[39m\u001b[33m  │         \u001b[39m\u001b[36m  │   \u001b[39m\u001b[35m            \u001b[39m\u001b[34m  └───── tag: \u001b[39m\u001b[37mdatatype\u001b[39m\n",
      "\u001b[34m         \u001b[39m\u001b[31m      \u001b[39m\u001b[32m      \u001b[39m\u001b[33m  │         \u001b[39m\u001b[36m  └── \u001b[39m\u001b[35mDict of\u001b[39m\n",
      "\u001b[34m         \u001b[39m\u001b[31m      \u001b[39m\u001b[32m      \u001b[39m\u001b[33m  │         \u001b[39m\u001b[36m      \u001b[39m\u001b[35m  ├── data: \u001b[39m\u001b[34mVector of\u001b[39m\n",
      "\u001b[34m         \u001b[39m\u001b[31m      \u001b[39m\u001b[32m      \u001b[39m\u001b[33m  │         \u001b[39m\u001b[36m      \u001b[39m\u001b[35m  │         \u001b[39m\u001b[34m  ├── \u001b[39m\u001b[37m16\u001b[39m\n",
      "\u001b[34m         \u001b[39m\u001b[31m      \u001b[39m\u001b[32m      \u001b[39m\u001b[33m  │         \u001b[39m\u001b[36m      \u001b[39m\u001b[35m  │         \u001b[39m\u001b[34m  ├── \u001b[39m\u001b[37m62\u001b[39m\n",
      "\u001b[34m         \u001b[39m\u001b[31m      \u001b[39m\u001b[32m      \u001b[39m\u001b[33m  │         \u001b[39m\u001b[36m      \u001b[39m\u001b[35m  │         \u001b[39m\u001b[34m  ├── \u001b[39m\u001b[37m68\u001b[39m\n",
      "\u001b[34m         \u001b[39m\u001b[31m      \u001b[39m\u001b[32m      \u001b[39m\u001b[33m  │         \u001b[39m\u001b[36m      \u001b[39m\u001b[35m  │         \u001b[39m\u001b[34m  ├── \u001b[39m\u001b[37m79\u001b[39m\n",
      "\u001b[34m         \u001b[39m\u001b[31m      \u001b[39m\u001b[32m      \u001b[39m\u001b[33m  │         \u001b[39m\u001b[36m      \u001b[39m\u001b[35m  │         \u001b[39m\u001b[34m  ├── \u001b[39m\u001b[37m127\u001b[39m\n",
      "\u001b[34m         \u001b[39m\u001b[31m      \u001b[39m\u001b[32m      \u001b[39m\u001b[33m  │         \u001b[39m\u001b[36m      \u001b[39m\u001b[35m  │         \u001b[39m\u001b[34m  ├── \u001b[39m\u001b[37m127\u001b[39m\n",
      "\u001b[34m         \u001b[39m\u001b[31m      \u001b[39m\u001b[32m      \u001b[39m\u001b[33m  │         \u001b[39m\u001b[36m      \u001b[39m\u001b[35m  │         \u001b[39m\u001b[34m  ├── \u001b[39m\u001b[37m0\u001b[39m\n",
      "\u001b[34m         \u001b[39m\u001b[31m      \u001b[39m\u001b[32m      \u001b[39m\u001b[33m  │         \u001b[39m\u001b[36m      \u001b[39m\u001b[35m  │         \u001b[39m\u001b[34m  └── \u001b[39m\u001b[37m0\u001b[39m\n",
      "\u001b[34m         \u001b[39m\u001b[31m      \u001b[39m\u001b[32m      \u001b[39m\u001b[33m  │         \u001b[39m\u001b[36m      \u001b[39m\u001b[35m  ├─── tag: \u001b[39m\u001b[37mstruct\u001b[39m\n",
      "\u001b[34m         \u001b[39m\u001b[31m      \u001b[39m\u001b[32m      \u001b[39m\u001b[33m  │         \u001b[39m\u001b[36m      \u001b[39m\u001b[35m  └── type: \u001b[39m\u001b[34mDict of\u001b[39m\n",
      "\u001b[34m         \u001b[39m\u001b[31m      \u001b[39m\u001b[32m      \u001b[39m\u001b[33m  │         \u001b[39m\u001b[36m      \u001b[39m\u001b[35m            \u001b[39m\u001b[34m  ├──── name: \u001b[39m\u001b[31mVector of\u001b[39m\n",
      "\u001b[34m         \u001b[39m\u001b[31m      \u001b[39m\u001b[32m      \u001b[39m\u001b[33m  │         \u001b[39m\u001b[36m      \u001b[39m\u001b[35m            \u001b[39m\u001b[34m  │           \u001b[39m\u001b[31m  ├── \u001b[39m\u001b[37mCore\u001b[39m\n",
      "\u001b[34m         \u001b[39m\u001b[31m      \u001b[39m\u001b[32m      \u001b[39m\u001b[33m  │         \u001b[39m\u001b[36m      \u001b[39m\u001b[35m            \u001b[39m\u001b[34m  │           \u001b[39m\u001b[31m  └── \u001b[39m\u001b[37mPtr\u001b[39m\n",
      "\u001b[34m         \u001b[39m\u001b[31m      \u001b[39m\u001b[32m      \u001b[39m\u001b[33m  │         \u001b[39m\u001b[36m      \u001b[39m\u001b[35m            \u001b[39m\u001b[34m  ├── params: \u001b[39m\u001b[31mVector of\u001b[39m\n",
      "\u001b[34m         \u001b[39m\u001b[31m      \u001b[39m\u001b[32m      \u001b[39m\u001b[33m  │         \u001b[39m\u001b[36m      \u001b[39m\u001b[35m            \u001b[39m\u001b[34m  │           \u001b[39m\u001b[31m  └── \u001b[39m\u001b[32mDict of\u001b[39m\n",
      "\u001b[34m         \u001b[39m\u001b[31m      \u001b[39m\u001b[32m      \u001b[39m\u001b[33m  │         \u001b[39m\u001b[36m      \u001b[39m\u001b[35m            \u001b[39m\u001b[34m  │           \u001b[39m\u001b[31m      \u001b[39m\u001b[32m  ├──── name: \u001b[39m\u001b[33mVector of\u001b[39m\n",
      "\u001b[34m         \u001b[39m\u001b[31m      \u001b[39m\u001b[32m      \u001b[39m\u001b[33m  │         \u001b[39m\u001b[36m      \u001b[39m\u001b[35m            \u001b[39m\u001b[34m  │           \u001b[39m\u001b[31m      \u001b[39m\u001b[32m  │           \u001b[39m\u001b[33m  ├── \u001b[39m\u001b[37mCore\u001b[39m\n",
      "\u001b[34m         \u001b[39m\u001b[31m      \u001b[39m\u001b[32m      \u001b[39m\u001b[33m  │         \u001b[39m\u001b[36m      \u001b[39m\u001b[35m            \u001b[39m\u001b[34m  │           \u001b[39m\u001b[31m      \u001b[39m\u001b[32m  │           \u001b[39m\u001b[33m  └── \u001b[39m\u001b[37mNothing\u001b[39m\n",
      "\u001b[34m         \u001b[39m\u001b[31m      \u001b[39m\u001b[32m      \u001b[39m\u001b[33m  │         \u001b[39m\u001b[36m      \u001b[39m\u001b[35m            \u001b[39m\u001b[34m  │           \u001b[39m\u001b[31m      \u001b[39m\u001b[32m  ├── params: \u001b[39m\u001b[33mVector of\u001b[39m\n",
      "\u001b[34m         \u001b[39m\u001b[31m      \u001b[39m\u001b[32m      \u001b[39m\u001b[33m  │         \u001b[39m\u001b[36m      \u001b[39m\u001b[35m            \u001b[39m\u001b[34m  │           \u001b[39m\u001b[31m      \u001b[39m\u001b[32m  └───── tag: \u001b[39m\u001b[37mdatatype\u001b[39m\n",
      "\u001b[34m         \u001b[39m\u001b[31m      \u001b[39m\u001b[32m      \u001b[39m\u001b[33m  │         \u001b[39m\u001b[36m      \u001b[39m\u001b[35m            \u001b[39m\u001b[34m  └───── tag: \u001b[39m\u001b[37mdatatype\u001b[39m\n",
      "\u001b[34m         \u001b[39m\u001b[31m      \u001b[39m\u001b[32m      \u001b[39m\u001b[33m  ├─── tag: \u001b[39m\u001b[37mstruct\u001b[39m\n",
      "\u001b[34m         \u001b[39m\u001b[31m      \u001b[39m\u001b[32m      \u001b[39m\u001b[33m  └── type: \u001b[39m\u001b[36mDict of\u001b[39m\n",
      "\u001b[34m         \u001b[39m\u001b[31m      \u001b[39m\u001b[32m      \u001b[39m\u001b[33m            \u001b[39m\u001b[36m  ├──── name: \u001b[39m\u001b[35mVector of\u001b[39m\n",
      "\u001b[34m         \u001b[39m\u001b[31m      \u001b[39m\u001b[32m      \u001b[39m\u001b[33m            \u001b[39m\u001b[36m  │           \u001b[39m\u001b[35m  ├── \u001b[39m\u001b[37mMain\u001b[39m\n",
      "\u001b[34m         \u001b[39m\u001b[31m      \u001b[39m\u001b[32m      \u001b[39m\u001b[33m            \u001b[39m\u001b[36m  │           \u001b[39m\u001b[35m  ├── \u001b[39m\u001b[37mBase\u001b[39m\n",
      "\u001b[34m         \u001b[39m\u001b[31m      \u001b[39m\u001b[32m      \u001b[39m\u001b[33m            \u001b[39m\u001b[36m  │           \u001b[39m\u001b[35m  └── \u001b[39m\u001b[37mRegex\u001b[39m\n",
      "\u001b[34m         \u001b[39m\u001b[31m      \u001b[39m\u001b[32m      \u001b[39m\u001b[33m            \u001b[39m\u001b[36m  ├── params: \u001b[39m\u001b[35mVector of\u001b[39m\n",
      "\u001b[34m         \u001b[39m\u001b[31m      \u001b[39m\u001b[32m      \u001b[39m\u001b[33m            \u001b[39m\u001b[36m  └───── tag: \u001b[39m\u001b[37mdatatype\u001b[39m"
     ]
    }
   ],
   "source": [
    "printtree(bson_struct)"
   ]
  },
  {
   "cell_type": "code",
   "execution_count": 5,
   "metadata": {},
   "outputs": [
    {
     "name": "stdout",
     "output_type": "stream",
     "text": [
      "\u001b[34mDict of [\"\"]\u001b[39m\n",
      "\u001b[34m  └── a: \u001b[39m\u001b[31mVector of [\"U\"]\u001b[39m\n",
      "\u001b[34m         \u001b[39m\u001b[31m  ├── \u001b[39m\u001b[32mDict of [\"c\"]\u001b[39m\n",
      "\u001b[34m         \u001b[39m\u001b[31m  │   \u001b[39m\u001b[32m  ├── name: \u001b[39m\u001b[37mFoo [\"e\"]\u001b[39m\n",
      "\u001b[34m         \u001b[39m\u001b[31m  │   \u001b[39m\u001b[32m  └─── tag: \u001b[39m\u001b[37msymbol [\"g\"]\u001b[39m\n",
      "\u001b[34m         \u001b[39m\u001b[31m  ├── \u001b[39m\u001b[37mBar [\"k\"]\u001b[39m\n",
      "\u001b[34m         \u001b[39m\u001b[31m  └── \u001b[39m\u001b[32mVector of [\"s\"]\u001b[39m\n",
      "\u001b[34m         \u001b[39m\u001b[31m      \u001b[39m\u001b[32m  ├── \u001b[39m\u001b[37m1 [\"t\"]\u001b[39m\n",
      "\u001b[34m         \u001b[39m\u001b[31m      \u001b[39m\u001b[32m  ├── \u001b[39m\u001b[37mBaz [\"u\"]\u001b[39m\n",
      "\u001b[34m         \u001b[39m\u001b[31m      \u001b[39m\u001b[32m  ├── \u001b[39m\u001b[33mDict of [\"v\"]\u001b[39m\n",
      "\u001b[34m         \u001b[39m\u001b[31m      \u001b[39m\u001b[32m  │   \u001b[39m\u001b[33m  ├── data: \u001b[39m\u001b[36mVector of [\"v6\"]\u001b[39m\n",
      "\u001b[34m         \u001b[39m\u001b[31m      \u001b[39m\u001b[32m  │   \u001b[39m\u001b[33m  ├── size: \u001b[39m\u001b[36mVector of [\"vE\"]\u001b[39m\n",
      "\u001b[34m         \u001b[39m\u001b[31m      \u001b[39m\u001b[32m  │   \u001b[39m\u001b[33m  │         \u001b[39m\u001b[36m  └── \u001b[39m\u001b[37m1 [\"vI\"]\u001b[39m\n",
      "\u001b[34m         \u001b[39m\u001b[31m      \u001b[39m\u001b[32m  │   \u001b[39m\u001b[33m  ├─── tag: \u001b[39m\u001b[37marray [\"vM\"]\u001b[39m\n",
      "\u001b[34m         \u001b[39m\u001b[31m      \u001b[39m\u001b[32m  │   \u001b[39m\u001b[33m  └── type: \u001b[39m\u001b[36mDict of [\"vU\"]\u001b[39m\n",
      "\u001b[34m         \u001b[39m\u001b[31m      \u001b[39m\u001b[32m  │   \u001b[39m\u001b[33m            \u001b[39m\u001b[36m  ├──── name: \u001b[39m\u001b[35mVector of [\"vW\"]\u001b[39m\n",
      "\u001b[34m         \u001b[39m\u001b[31m      \u001b[39m\u001b[32m  │   \u001b[39m\u001b[33m            \u001b[39m\u001b[36m  │           \u001b[39m\u001b[35m  ├── \u001b[39m\u001b[37mMain [\"vWU\"]\u001b[39m\n",
      "\u001b[34m         \u001b[39m\u001b[31m      \u001b[39m\u001b[32m  │   \u001b[39m\u001b[33m            \u001b[39m\u001b[36m  │           \u001b[39m\u001b[35m  ├── \u001b[39m\u001b[37mBase [\"vX*\"]\u001b[39m\n",
      "\u001b[34m         \u001b[39m\u001b[31m      \u001b[39m\u001b[32m  │   \u001b[39m\u001b[33m            \u001b[39m\u001b[36m  │           \u001b[39m\u001b[35m  └── \u001b[39m\u001b[37mIrrational [\"vXU\"]\u001b[39m\n",
      "\u001b[34m         \u001b[39m\u001b[31m      \u001b[39m\u001b[32m  │   \u001b[39m\u001b[33m            \u001b[39m\u001b[36m  ├── params: \u001b[39m\u001b[35mVector of [\"vY\"]\u001b[39m\n",
      "\u001b[34m         \u001b[39m\u001b[31m      \u001b[39m\u001b[32m  │   \u001b[39m\u001b[33m            \u001b[39m\u001b[36m  │           \u001b[39m\u001b[35m  └── \u001b[39m\u001b[34mDict of [\"vZ\"]\u001b[39m\n",
      "\u001b[34m         \u001b[39m\u001b[31m      \u001b[39m\u001b[32m  │   \u001b[39m\u001b[33m            \u001b[39m\u001b[36m  │           \u001b[39m\u001b[35m      \u001b[39m\u001b[34m  ├── name: \u001b[39m\u001b[37mπ [\"vZE\"]\u001b[39m\n",
      "\u001b[34m         \u001b[39m\u001b[31m      \u001b[39m\u001b[32m  │   \u001b[39m\u001b[33m            \u001b[39m\u001b[36m  │           \u001b[39m\u001b[35m      \u001b[39m\u001b[34m  └─── tag: \u001b[39m\u001b[37msymbol [\"vZU\"]\u001b[39m\n",
      "\u001b[34m         \u001b[39m\u001b[31m      \u001b[39m\u001b[32m  │   \u001b[39m\u001b[33m            \u001b[39m\u001b[36m  └───── tag: \u001b[39m\u001b[37mdatatype [\"va\"]\u001b[39m\n",
      "\u001b[34m         \u001b[39m\u001b[31m      \u001b[39m\u001b[32m  └── \u001b[39m\u001b[33mDict of [\"w\"]\u001b[39m\n",
      "\u001b[34m         \u001b[39m\u001b[31m      \u001b[39m\u001b[32m      \u001b[39m\u001b[33m  ├── data: \u001b[39m\u001b[36mVector of [\"wE\"]\u001b[39m\n",
      "\u001b[34m         \u001b[39m\u001b[31m      \u001b[39m\u001b[32m      \u001b[39m\u001b[33m  │         \u001b[39m\u001b[36m  ├── \u001b[39m\u001b[37m.* [\"wG\"]\u001b[39m\n",
      "\u001b[34m         \u001b[39m\u001b[31m      \u001b[39m\u001b[32m      \u001b[39m\u001b[33m  │         \u001b[39m\u001b[36m  ├── \u001b[39m\u001b[35mDict of [\"wI\"]\u001b[39m\n",
      "\u001b[34m         \u001b[39m\u001b[31m      \u001b[39m\u001b[32m      \u001b[39m\u001b[33m  │         \u001b[39m\u001b[36m  │   \u001b[39m\u001b[35m  ├── data: \u001b[39m\u001b[34mVector of [\"wIU\"]\u001b[39m\n",
      "\u001b[34m         \u001b[39m\u001b[31m      \u001b[39m\u001b[32m      \u001b[39m\u001b[33m  │         \u001b[39m\u001b[36m  │   \u001b[39m\u001b[35m  │         \u001b[39m\u001b[34m  ├── \u001b[39m\u001b[37m2 [\"wIY\"]\u001b[39m\n",
      "\u001b[34m         \u001b[39m\u001b[31m      \u001b[39m\u001b[32m      \u001b[39m\u001b[33m  │         \u001b[39m\u001b[36m  │   \u001b[39m\u001b[35m  │         \u001b[39m\u001b[34m  ├── \u001b[39m\u001b[37m0 [\"wIc\"]\u001b[39m\n",
      "\u001b[34m         \u001b[39m\u001b[31m      \u001b[39m\u001b[32m      \u001b[39m\u001b[33m  │         \u001b[39m\u001b[36m  │   \u001b[39m\u001b[35m  │         \u001b[39m\u001b[34m  ├── \u001b[39m\u001b[37m10 [\"wIg\"]\u001b[39m\n",
      "\u001b[34m         \u001b[39m\u001b[31m      \u001b[39m\u001b[32m      \u001b[39m\u001b[33m  │         \u001b[39m\u001b[36m  │   \u001b[39m\u001b[35m  │         \u001b[39m\u001b[34m  └── \u001b[39m\u001b[37m64 [\"wIk\"]\u001b[39m\n",
      "\u001b[34m         \u001b[39m\u001b[31m      \u001b[39m\u001b[32m      \u001b[39m\u001b[33m  │         \u001b[39m\u001b[36m  │   \u001b[39m\u001b[35m  ├─── tag: \u001b[39m\u001b[37mstruct [\"wJ*\"]\u001b[39m\n",
      "\u001b[34m         \u001b[39m\u001b[31m      \u001b[39m\u001b[32m      \u001b[39m\u001b[33m  │         \u001b[39m\u001b[36m  │   \u001b[39m\u001b[35m  └── type: \u001b[39m\u001b[34mDict of [\"wJU\"]\u001b[39m\n",
      "\u001b[34m         \u001b[39m\u001b[31m      \u001b[39m\u001b[32m      \u001b[39m\u001b[33m  │         \u001b[39m\u001b[36m  │   \u001b[39m\u001b[35m            \u001b[39m\u001b[34m  ├──── name: \u001b[39m\u001b[31mVector of [\"wJc\"]\u001b[39m\n",
      "\u001b[34m         \u001b[39m\u001b[31m      \u001b[39m\u001b[32m      \u001b[39m\u001b[33m  │         \u001b[39m\u001b[36m  │   \u001b[39m\u001b[35m            \u001b[39m\u001b[34m  │           \u001b[39m\u001b[31m  ├── \u001b[39m\u001b[37mCore [\"wJe\"]\u001b[39m\n",
      "\u001b[34m         \u001b[39m\u001b[31m      \u001b[39m\u001b[32m      \u001b[39m\u001b[33m  │         \u001b[39m\u001b[36m  │   \u001b[39m\u001b[35m            \u001b[39m\u001b[34m  │           \u001b[39m\u001b[31m  └── \u001b[39m\u001b[37mUInt32 [\"wJg\"]\u001b[39m\n",
      "\u001b[34m         \u001b[39m\u001b[31m      \u001b[39m\u001b[32m      \u001b[39m\u001b[33m  │         \u001b[39m\u001b[36m  │   \u001b[39m\u001b[35m            \u001b[39m\u001b[34m  ├── params: \u001b[39m\u001b[31mVector of [\"wJk\"]\u001b[39m\n",
      "\u001b[34m         \u001b[39m\u001b[31m      \u001b[39m\u001b[32m      \u001b[39m\u001b[33m  │         \u001b[39m\u001b[36m  │   \u001b[39m\u001b[35m            \u001b[39m\u001b[34m  └───── tag: \u001b[39m\u001b[37mdatatype [\"wJs\"]\u001b[39m\n",
      "\u001b[34m         \u001b[39m\u001b[31m      \u001b[39m\u001b[32m      \u001b[39m\u001b[33m  │         \u001b[39m\u001b[36m  ├── \u001b[39m\u001b[35mDict of [\"wK\"]\u001b[39m\n",
      "\u001b[34m         \u001b[39m\u001b[31m      \u001b[39m\u001b[32m      \u001b[39m\u001b[33m  │         \u001b[39m\u001b[36m  │   \u001b[39m\u001b[35m  ├── data: \u001b[39m\u001b[34mVector of [\"wKU\"]\u001b[39m\n",
      "\u001b[34m         \u001b[39m\u001b[31m      \u001b[39m\u001b[32m      \u001b[39m\u001b[33m  │         \u001b[39m\u001b[36m  │   \u001b[39m\u001b[35m  │         \u001b[39m\u001b[34m  ├── \u001b[39m\u001b[37m0 [\"wKY\"]\u001b[39m\n",
      "\u001b[34m         \u001b[39m\u001b[31m      \u001b[39m\u001b[32m      \u001b[39m\u001b[33m  │         \u001b[39m\u001b[36m  │   \u001b[39m\u001b[35m  │         \u001b[39m\u001b[34m  ├── \u001b[39m\u001b[37m0 [\"wKc\"]\u001b[39m\n",
      "\u001b[34m         \u001b[39m\u001b[31m      \u001b[39m\u001b[32m      \u001b[39m\u001b[33m  │         \u001b[39m\u001b[36m  │   \u001b[39m\u001b[35m  │         \u001b[39m\u001b[34m  ├── \u001b[39m\u001b[37m0 [\"wKg\"]\u001b[39m\n",
      "\u001b[34m         \u001b[39m\u001b[31m      \u001b[39m\u001b[32m      \u001b[39m\u001b[33m  │         \u001b[39m\u001b[36m  │   \u001b[39m\u001b[35m  │         \u001b[39m\u001b[34m  └── \u001b[39m\u001b[37m64 [\"wKk\"]\u001b[39m\n",
      "\u001b[34m         \u001b[39m\u001b[31m      \u001b[39m\u001b[32m      \u001b[39m\u001b[33m  │         \u001b[39m\u001b[36m  │   \u001b[39m\u001b[35m  ├─── tag: \u001b[39m\u001b[37mstruct [\"wL*\"]\u001b[39m\n",
      "\u001b[34m         \u001b[39m\u001b[31m      \u001b[39m\u001b[32m      \u001b[39m\u001b[33m  │         \u001b[39m\u001b[36m  │   \u001b[39m\u001b[35m  └── type: \u001b[39m\u001b[34mDict of [\"wLU\"]\u001b[39m\n",
      "\u001b[34m         \u001b[39m\u001b[31m      \u001b[39m\u001b[32m      \u001b[39m\u001b[33m  │         \u001b[39m\u001b[36m  │   \u001b[39m\u001b[35m            \u001b[39m\u001b[34m  ├──── name: \u001b[39m\u001b[31mVector of [\"wLc\"]\u001b[39m\n",
      "\u001b[34m         \u001b[39m\u001b[31m      \u001b[39m\u001b[32m      \u001b[39m\u001b[33m  │         \u001b[39m\u001b[36m  │   \u001b[39m\u001b[35m            \u001b[39m\u001b[34m  │           \u001b[39m\u001b[31m  ├── \u001b[39m\u001b[37mCore [\"wLe\"]\u001b[39m\n",
      "\u001b[34m         \u001b[39m\u001b[31m      \u001b[39m\u001b[32m      \u001b[39m\u001b[33m  │         \u001b[39m\u001b[36m  │   \u001b[39m\u001b[35m            \u001b[39m\u001b[34m  │           \u001b[39m\u001b[31m  └── \u001b[39m\u001b[37mUInt32 [\"wLg\"]\u001b[39m\n",
      "\u001b[34m         \u001b[39m\u001b[31m      \u001b[39m\u001b[32m      \u001b[39m\u001b[33m  │         \u001b[39m\u001b[36m  │   \u001b[39m\u001b[35m            \u001b[39m\u001b[34m  ├── params: \u001b[39m\u001b[31mVector of [\"wLk\"]\u001b[39m\n",
      "\u001b[34m         \u001b[39m\u001b[31m      \u001b[39m\u001b[32m      \u001b[39m\u001b[33m  │         \u001b[39m\u001b[36m  │   \u001b[39m\u001b[35m            \u001b[39m\u001b[34m  └───── tag: \u001b[39m\u001b[37mdatatype [\"wLs\"]\u001b[39m\n",
      "\u001b[34m         \u001b[39m\u001b[31m      \u001b[39m\u001b[32m      \u001b[39m\u001b[33m  │         \u001b[39m\u001b[36m  └── \u001b[39m\u001b[35mDict of [\"wM\"]\u001b[39m\n",
      "\u001b[34m         \u001b[39m\u001b[31m      \u001b[39m\u001b[32m      \u001b[39m\u001b[33m  │         \u001b[39m\u001b[36m      \u001b[39m\u001b[35m  ├── data: \u001b[39m\u001b[34mVector of [\"wMU\"]\u001b[39m\n",
      "\u001b[34m         \u001b[39m\u001b[31m      \u001b[39m\u001b[32m      \u001b[39m\u001b[33m  │         \u001b[39m\u001b[36m      \u001b[39m\u001b[35m  │         \u001b[39m\u001b[34m  ├── \u001b[39m\u001b[37m16 [\"wMW\"]\u001b[39m\n",
      "\u001b[34m         \u001b[39m\u001b[31m      \u001b[39m\u001b[32m      \u001b[39m\u001b[33m  │         \u001b[39m\u001b[36m      \u001b[39m\u001b[35m  │         \u001b[39m\u001b[34m  ├── \u001b[39m\u001b[37m62 [\"wMY\"]\u001b[39m\n",
      "\u001b[34m         \u001b[39m\u001b[31m      \u001b[39m\u001b[32m      \u001b[39m\u001b[33m  │         \u001b[39m\u001b[36m      \u001b[39m\u001b[35m  │         \u001b[39m\u001b[34m  ├── \u001b[39m\u001b[37m68 [\"wMa\"]\u001b[39m\n",
      "\u001b[34m         \u001b[39m\u001b[31m      \u001b[39m\u001b[32m      \u001b[39m\u001b[33m  │         \u001b[39m\u001b[36m      \u001b[39m\u001b[35m  │         \u001b[39m\u001b[34m  ├── \u001b[39m\u001b[37m79 [\"wMc\"]\u001b[39m\n",
      "\u001b[34m         \u001b[39m\u001b[31m      \u001b[39m\u001b[32m      \u001b[39m\u001b[33m  │         \u001b[39m\u001b[36m      \u001b[39m\u001b[35m  │         \u001b[39m\u001b[34m  ├── \u001b[39m\u001b[37m127 [\"wMe\"]\u001b[39m\n",
      "\u001b[34m         \u001b[39m\u001b[31m      \u001b[39m\u001b[32m      \u001b[39m\u001b[33m  │         \u001b[39m\u001b[36m      \u001b[39m\u001b[35m  │         \u001b[39m\u001b[34m  ├── \u001b[39m\u001b[37m127 [\"wMg\"]\u001b[39m\n",
      "\u001b[34m         \u001b[39m\u001b[31m      \u001b[39m\u001b[32m      \u001b[39m\u001b[33m  │         \u001b[39m\u001b[36m      \u001b[39m\u001b[35m  │         \u001b[39m\u001b[34m  ├── \u001b[39m\u001b[37m0 [\"wMi\"]\u001b[39m\n",
      "\u001b[34m         \u001b[39m\u001b[31m      \u001b[39m\u001b[32m      \u001b[39m\u001b[33m  │         \u001b[39m\u001b[36m      \u001b[39m\u001b[35m  │         \u001b[39m\u001b[34m  └── \u001b[39m\u001b[37m0 [\"wMk\"]\u001b[39m\n",
      "\u001b[34m         \u001b[39m\u001b[31m      \u001b[39m\u001b[32m      \u001b[39m\u001b[33m  │         \u001b[39m\u001b[36m      \u001b[39m\u001b[35m  ├─── tag: \u001b[39m\u001b[37mstruct [\"wN*\"]\u001b[39m\n",
      "\u001b[34m         \u001b[39m\u001b[31m      \u001b[39m\u001b[32m      \u001b[39m\u001b[33m  │         \u001b[39m\u001b[36m      \u001b[39m\u001b[35m  └── type: \u001b[39m\u001b[34mDict of [\"wNU\"]\u001b[39m\n",
      "\u001b[34m         \u001b[39m\u001b[31m      \u001b[39m\u001b[32m      \u001b[39m\u001b[33m  │         \u001b[39m\u001b[36m      \u001b[39m\u001b[35m            \u001b[39m\u001b[34m  ├──── name: \u001b[39m\u001b[31mVector of [\"wNc\"]\u001b[39m\n",
      "\u001b[34m         \u001b[39m\u001b[31m      \u001b[39m\u001b[32m      \u001b[39m\u001b[33m  │         \u001b[39m\u001b[36m      \u001b[39m\u001b[35m            \u001b[39m\u001b[34m  │           \u001b[39m\u001b[31m  ├── \u001b[39m\u001b[37mCore [\"wNe\"]\u001b[39m\n",
      "\u001b[34m         \u001b[39m\u001b[31m      \u001b[39m\u001b[32m      \u001b[39m\u001b[33m  │         \u001b[39m\u001b[36m      \u001b[39m\u001b[35m            \u001b[39m\u001b[34m  │           \u001b[39m\u001b[31m  └── \u001b[39m\u001b[37mPtr [\"wNg\"]\u001b[39m\n",
      "\u001b[34m         \u001b[39m\u001b[31m      \u001b[39m\u001b[32m      \u001b[39m\u001b[33m  │         \u001b[39m\u001b[36m      \u001b[39m\u001b[35m            \u001b[39m\u001b[34m  ├── params: \u001b[39m\u001b[31mVector of [\"wNk\"]\u001b[39m\n",
      "\u001b[34m         \u001b[39m\u001b[31m      \u001b[39m\u001b[32m      \u001b[39m\u001b[33m  │         \u001b[39m\u001b[36m      \u001b[39m\u001b[35m            \u001b[39m\u001b[34m  │           \u001b[39m\u001b[31m  └── \u001b[39m\u001b[32mDict of [\"wNo\"]\u001b[39m\n",
      "\u001b[34m         \u001b[39m\u001b[31m      \u001b[39m\u001b[32m      \u001b[39m\u001b[33m  │         \u001b[39m\u001b[36m      \u001b[39m\u001b[35m            \u001b[39m\u001b[34m  │           \u001b[39m\u001b[31m      \u001b[39m\u001b[32m  ├──── name: \u001b[39m\u001b[33mVector of [\"wNp\"]\u001b[39m\n",
      "\u001b[34m         \u001b[39m\u001b[31m      \u001b[39m\u001b[32m      \u001b[39m\u001b[33m  │         \u001b[39m\u001b[36m      \u001b[39m\u001b[35m            \u001b[39m\u001b[34m  │           \u001b[39m\u001b[31m      \u001b[39m\u001b[32m  │           \u001b[39m\u001b[33m  ├── \u001b[39m\u001b[37mCore [\"wNpE\"]\u001b[39m\n",
      "\u001b[34m         \u001b[39m\u001b[31m      \u001b[39m\u001b[32m      \u001b[39m\u001b[33m  │         \u001b[39m\u001b[36m      \u001b[39m\u001b[35m            \u001b[39m\u001b[34m  │           \u001b[39m\u001b[31m      \u001b[39m\u001b[32m  │           \u001b[39m\u001b[33m  └── \u001b[39m\u001b[37mNothing [\"wNpU\"]\u001b[39m\n",
      "\u001b[34m         \u001b[39m\u001b[31m      \u001b[39m\u001b[32m      \u001b[39m\u001b[33m  │         \u001b[39m\u001b[36m      \u001b[39m\u001b[35m            \u001b[39m\u001b[34m  │           \u001b[39m\u001b[31m      \u001b[39m\u001b[32m  ├── params: \u001b[39m\u001b[33mVector of [\"wNq\"]\u001b[39m\n",
      "\u001b[34m         \u001b[39m\u001b[31m      \u001b[39m\u001b[32m      \u001b[39m\u001b[33m  │         \u001b[39m\u001b[36m      \u001b[39m\u001b[35m            \u001b[39m\u001b[34m  │           \u001b[39m\u001b[31m      \u001b[39m\u001b[32m  └───── tag: \u001b[39m\u001b[37mdatatype [\"wNr\"]\u001b[39m\n",
      "\u001b[34m         \u001b[39m\u001b[31m      \u001b[39m\u001b[32m      \u001b[39m\u001b[33m  │         \u001b[39m\u001b[36m      \u001b[39m\u001b[35m            \u001b[39m\u001b[34m  └───── tag: \u001b[39m\u001b[37mdatatype [\"wNs\"]\u001b[39m\n",
      "\u001b[34m         \u001b[39m\u001b[31m      \u001b[39m\u001b[32m      \u001b[39m\u001b[33m  ├─── tag: \u001b[39m\u001b[37mstruct [\"wU\"]\u001b[39m\n",
      "\u001b[34m         \u001b[39m\u001b[31m      \u001b[39m\u001b[32m      \u001b[39m\u001b[33m  └── type: \u001b[39m\u001b[36mDict of [\"wk\"]\u001b[39m\n",
      "\u001b[34m         \u001b[39m\u001b[31m      \u001b[39m\u001b[32m      \u001b[39m\u001b[33m            \u001b[39m\u001b[36m  ├──── name: \u001b[39m\u001b[35mVector of [\"wo\"]\u001b[39m\n",
      "\u001b[34m         \u001b[39m\u001b[31m      \u001b[39m\u001b[32m      \u001b[39m\u001b[33m            \u001b[39m\u001b[36m  │           \u001b[39m\u001b[35m  ├── \u001b[39m\u001b[37mMain [\"wp\"]\u001b[39m\n",
      "\u001b[34m         \u001b[39m\u001b[31m      \u001b[39m\u001b[32m      \u001b[39m\u001b[33m            \u001b[39m\u001b[36m  │           \u001b[39m\u001b[35m  ├── \u001b[39m\u001b[37mBase [\"wq\"]\u001b[39m\n",
      "\u001b[34m         \u001b[39m\u001b[31m      \u001b[39m\u001b[32m      \u001b[39m\u001b[33m            \u001b[39m\u001b[36m  │           \u001b[39m\u001b[35m  └── \u001b[39m\u001b[37mRegex [\"wr\"]\u001b[39m\n",
      "\u001b[34m         \u001b[39m\u001b[31m      \u001b[39m\u001b[32m      \u001b[39m\u001b[33m            \u001b[39m\u001b[36m  ├── params: \u001b[39m\u001b[35mVector of [\"ws\"]\u001b[39m\n",
      "\u001b[34m         \u001b[39m\u001b[31m      \u001b[39m\u001b[32m      \u001b[39m\u001b[33m            \u001b[39m\u001b[36m  └───── tag: \u001b[39m\u001b[37mdatatype [\"ww\"]\u001b[39m"
     ]
    }
   ],
   "source": [
    "printtree(bson_struct; trav=true)"
   ]
  },
  {
   "cell_type": "code",
   "execution_count": 6,
   "metadata": {},
   "outputs": [
    {
     "data": {
      "text/plain": [
       "Dict{Symbol,Any} with 3 entries:\n",
       "  :tag    => \"datatype\"\n",
       "  :params => Any[Dict{Symbol,Any}(:tag=>\"datatype\",:params=>Any[],:name=>Any[\"C…\n",
       "  :name   => Any[\"Core\", \"Ptr\"]"
      ]
     },
     "execution_count": 6,
     "metadata": {},
     "output_type": "execute_result"
    }
   ],
   "source": [
    "walk(bson_struct, \"wNU\")"
   ]
  }
 ],
 "metadata": {
  "kernelspec": {
   "display_name": "Julia 1.5.0",
   "language": "julia",
   "name": "julia-1.5"
  },
  "language_info": {
   "file_extension": ".jl",
   "mimetype": "application/julia",
   "name": "julia",
   "version": "1.5.0"
  }
 },
 "nbformat": 4,
 "nbformat_minor": 4
}
