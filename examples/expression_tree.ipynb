{
 "cells": [
  {
   "cell_type": "code",
   "execution_count": 1,
   "metadata": {},
   "outputs": [
    {
     "name": "stderr",
     "output_type": "stream",
     "text": [
      "\u001b[32m\u001b[1m Activating\u001b[22m\u001b[39m environment at `~/.julia/dev/HierarchicalUtils/examples/Project.toml`\n"
     ]
    }
   ],
   "source": [
    "using Pkg\n",
    "pkg\"activate\"\n",
    "using HierarchicalUtils"
   ]
  },
  {
   "cell_type": "markdown",
   "metadata": {},
   "source": [
    "## Type definitions\n",
    "\n",
    "Let's say we want to work with syntax trees of binary expressions. We will support `Value` nodes, carrying some constant real number, `Variable` nodes storing a name of some variable, and `Operation` nodes, which carry a definition of the operator and zero, one or more operands (children in the syntax tree).\n",
    "\n",
    "Besides type definitions, we also define a useful macro for parsing binary expressions."
   ]
  },
  {
   "cell_type": "code",
   "execution_count": 2,
   "metadata": {},
   "outputs": [
    {
     "data": {
      "text/plain": [
       "Operation(-, Expression[Operation(+, Expression[Operation(/, Expression[Value(10), Variable(:y)]), Value(5)]), Operation(*, Expression[Value(8), Variable(:z)])])"
      ]
     },
     "execution_count": 2,
     "metadata": {},
     "output_type": "execute_result"
    }
   ],
   "source": [
    "abstract type Expression end\n",
    "\n",
    "mutable struct Value <: Expression\n",
    "    x::Number\n",
    "end\n",
    "\n",
    "mutable struct Variable <: Expression\n",
    "    x::Symbol\n",
    "end\n",
    "\n",
    "mutable struct Operation <: Expression\n",
    "    op::Function\n",
    "    ch::Vector{Expression}\n",
    "end\n",
    "\n",
    "macro infix(expr) parseinfix(expr) end\n",
    "parseinfix(e::Expr) = Operation(eval(e.args[1]), collect(map(parseinfix, e.args[2:end])))\n",
    "parseinfix(x::Number) = Value(x)\n",
    "parseinfix(x::Symbol) = Variable(x)\n",
    "evalinfix(n::Value) = n.x\n",
    "evalinfix(n::Operation) = n.op(evalinfix.(n.ch)...)\n",
    "\n",
    "t1 = @infix ((2 + y) * 5) / (4 - x)\n",
    "t2 = @infix ((10 / y) + 5) - (8 * z)"
   ]
  },
  {
   "cell_type": "markdown",
   "metadata": {},
   "source": [
    "## Interface\n",
    "\n",
    "To obtain `HierarchicalUtils` functionality, one must provide the following method/trait definitions:\n",
    "\n",
    "- `NodeType(::Type{MyType})` equal to `HierarchicalUtils.LeafNode()` in case when nodes of the given type are always leaves in the tree (in our case `Value` and `Variable`), or equal to `HierarchicalUtils.InnerNode()` in case when node of this type can have multiple (possibly zero) children.\n",
    "- `children(n::MyType)` returning either a `Tuple` or `NamedTuple` of children (if children are referred to by some names/keys). For `LeafNode`s, this definition is not required.\n",
    "\n",
    "Optionally, one can provide:\n",
    "\n",
    "- `noderepr(n::MyType)` which returns a string representation of the node used for `printree` function (see below). It falls back to standard `Base.repr` by default.\n",
    "- `printchildren(n::MyType)` which makes it possible to return a `Tuple` or `NamedTuple` of children, that are printed (usually a subset of output of `children(n)`)\n",
    "\n",
    "This is all that is required and what follows are examples of use"
   ]
  },
  {
   "cell_type": "code",
   "execution_count": 3,
   "metadata": {},
   "outputs": [
    {
     "data": {
      "text/plain": [
       "children (generic function with 4 methods)"
      ]
     },
     "execution_count": 3,
     "metadata": {},
     "output_type": "execute_result"
    }
   ],
   "source": [
    "import HierarchicalUtils: NodeType, LeafNode, InnerNode, noderepr, children\n",
    "\n",
    "NodeType(::Type{Value}) = LeafNode()\n",
    "noderepr(n::Value) = string(n.x)\n",
    "\n",
    "NodeType(::Type{Variable}) = LeafNode()\n",
    "noderepr(n::Variable) = string(n.x)\n",
    "\n",
    "NodeType(::Type{Operation}) = InnerNode()\n",
    "noderepr(n::Operation) = string(n.op)\n",
    "function children(n::Operation)\n",
    "    keys = tuple([Symbol(\"op$i\") for i in eachindex(n.ch)]...)\n",
    "    NamedTuple{keys}(n.ch)\n",
    "end"
   ]
  },
  {
   "cell_type": "markdown",
   "metadata": {},
   "source": [
    "## Examples of use"
   ]
  },
  {
   "cell_type": "markdown",
   "metadata": {},
   "source": [
    "### Basics"
   ]
  },
  {
   "cell_type": "code",
   "execution_count": 4,
   "metadata": {},
   "outputs": [
    {
     "data": {
      "text/plain": [
       "(op1 = Operation(*, Expression[Operation(+, Expression[Value(2), Variable(:y)]), Value(5)]), op2 = Operation(-, Expression[Value(4), Variable(:x)]))"
      ]
     },
     "execution_count": 4,
     "metadata": {},
     "output_type": "execute_result"
    }
   ],
   "source": [
    "children(t1)"
   ]
  },
  {
   "cell_type": "code",
   "execution_count": 5,
   "metadata": {},
   "outputs": [
    {
     "data": {
      "text/plain": [
       "2"
      ]
     },
     "execution_count": 5,
     "metadata": {},
     "output_type": "execute_result"
    }
   ],
   "source": [
    "nchildren(t1)"
   ]
  },
  {
   "cell_type": "code",
   "execution_count": 6,
   "metadata": {},
   "outputs": [
    {
     "data": {
      "text/plain": [
       "9"
      ]
     },
     "execution_count": 6,
     "metadata": {},
     "output_type": "execute_result"
    }
   ],
   "source": [
    "nnodes(t1)"
   ]
  },
  {
   "cell_type": "code",
   "execution_count": 7,
   "metadata": {},
   "outputs": [
    {
     "data": {
      "text/plain": [
       "5"
      ]
     },
     "execution_count": 7,
     "metadata": {},
     "output_type": "execute_result"
    }
   ],
   "source": [
    "nleafs(t1)"
   ]
  },
  {
   "cell_type": "markdown",
   "metadata": {},
   "source": [
    "#### Printing"
   ]
  },
  {
   "cell_type": "code",
   "execution_count": 8,
   "metadata": {},
   "outputs": [
    {
     "name": "stdout",
     "output_type": "stream",
     "text": [
      "\u001b[31m/\u001b[39m\n",
      "\u001b[31m├── op1: \u001b[39m\u001b[32m*\u001b[39m\n",
      "\u001b[31m│        \u001b[39m\u001b[32m├── op1: \u001b[39m\u001b[33m+\u001b[39m\n",
      "\u001b[31m│        \u001b[39m\u001b[32m│        \u001b[39m\u001b[33m├── op1: \u001b[39m\u001b[37m2\u001b[39m\n",
      "\u001b[31m│        \u001b[39m\u001b[32m│        \u001b[39m\u001b[33m└── op2: \u001b[39m\u001b[37my\u001b[39m\n",
      "\u001b[31m│        \u001b[39m\u001b[32m└── op2: \u001b[39m\u001b[37m5\u001b[39m\n",
      "\u001b[31m└── op2: \u001b[39m\u001b[32m-\u001b[39m\n",
      "\u001b[31m         \u001b[39m\u001b[32m├── op1: \u001b[39m\u001b[37m4\u001b[39m\n",
      "\u001b[31m         \u001b[39m\u001b[32m└── op2: \u001b[39m\u001b[37mx\u001b[39m"
     ]
    }
   ],
   "source": [
    "printtree(t1)"
   ]
  },
  {
   "cell_type": "code",
   "execution_count": 9,
   "metadata": {},
   "outputs": [
    {
     "name": "stdout",
     "output_type": "stream",
     "text": [
      "\u001b[31m-\u001b[39m\n",
      "\u001b[31m├── op1: \u001b[39m\u001b[32m+\u001b[39m\n",
      "\u001b[31m│        \u001b[39m\u001b[32m├── op1: \u001b[39m\u001b[33m/\u001b[39m\n",
      "\u001b[31m│        \u001b[39m\u001b[32m│        \u001b[39m\u001b[33m├── op1: \u001b[39m\u001b[37m10\u001b[39m\n",
      "\u001b[31m│        \u001b[39m\u001b[32m│        \u001b[39m\u001b[33m└── op2: \u001b[39m\u001b[37my\u001b[39m\n",
      "\u001b[31m│        \u001b[39m\u001b[32m└── op2: \u001b[39m\u001b[37m5\u001b[39m\n",
      "\u001b[31m└── op2: \u001b[39m\u001b[32m*\u001b[39m\n",
      "\u001b[31m         \u001b[39m\u001b[32m├── op1: \u001b[39m\u001b[37m8\u001b[39m\n",
      "\u001b[31m         \u001b[39m\u001b[32m└── op2: \u001b[39m\u001b[37mz\u001b[39m"
     ]
    }
   ],
   "source": [
    "printtree(t2)"
   ]
  },
  {
   "cell_type": "markdown",
   "metadata": {},
   "source": [
    "We can define a behavior for `Base.show` to call `printtree` for our types."
   ]
  },
  {
   "cell_type": "code",
   "execution_count": 10,
   "metadata": {},
   "outputs": [],
   "source": [
    "import Base.show\n",
    "Base.show(io::IO, ::MIME\"text/plain\", n::Expression) = printtree(io, n)\n",
    "Base.show(io::IO, n::Operation) = print(io, n.op)\n",
    "Base.show(io::IO, n::Expression) = print(io, n.x)"
   ]
  },
  {
   "cell_type": "code",
   "execution_count": 11,
   "metadata": {},
   "outputs": [
    {
     "data": {
      "text/plain": [
       "\u001b[31m/\u001b[39m\n",
       "\u001b[31m├── op1: \u001b[39m\u001b[32m*\u001b[39m\n",
       "\u001b[31m│        \u001b[39m\u001b[32m├── op1: \u001b[39m\u001b[33m+\u001b[39m\n",
       "\u001b[31m│        \u001b[39m\u001b[32m│        \u001b[39m\u001b[33m├── op1: \u001b[39m\u001b[37m2\u001b[39m\n",
       "\u001b[31m│        \u001b[39m\u001b[32m│        \u001b[39m\u001b[33m└── op2: \u001b[39m\u001b[37my\u001b[39m\n",
       "\u001b[31m│        \u001b[39m\u001b[32m└── op2: \u001b[39m\u001b[37m5\u001b[39m\n",
       "\u001b[31m└── op2: \u001b[39m\u001b[32m-\u001b[39m\n",
       "\u001b[31m         \u001b[39m\u001b[32m├── op1: \u001b[39m\u001b[37m4\u001b[39m\n",
       "\u001b[31m         \u001b[39m\u001b[32m└── op2: \u001b[39m\u001b[37mx\u001b[39m"
      ]
     },
     "execution_count": 11,
     "metadata": {},
     "output_type": "execute_result"
    }
   ],
   "source": [
    "t1"
   ]
  },
  {
   "cell_type": "markdown",
   "metadata": {},
   "source": [
    "Truncating large trees"
   ]
  },
  {
   "cell_type": "code",
   "execution_count": 12,
   "metadata": {},
   "outputs": [
    {
     "name": "stdout",
     "output_type": "stream",
     "text": [
      "\u001b[31m/\u001b[39m\n",
      "\u001b[31m├── op1: \u001b[39m\u001b[32m*\u001b[39m\n",
      "\u001b[31m│        \u001b[39m\u001b[32m⋮\u001b[39m\n",
      "\u001b[31m└── op2: \u001b[39m\u001b[32m-\u001b[39m\n",
      "\u001b[31m         \u001b[39m\u001b[32m⋮\u001b[39m"
     ]
    }
   ],
   "source": [
    "printtree(t1; trunc=2)"
   ]
  },
  {
   "cell_type": "markdown",
   "metadata": {},
   "source": [
    "### Traversal encoding"
   ]
  },
  {
   "cell_type": "markdown",
   "metadata": {},
   "source": [
    "Traversal encoding makes it possible to get to an arbitrary node in the tree quickly mainly in an interactive mode. Begin by printing the tree with a special argument"
   ]
  },
  {
   "cell_type": "code",
   "execution_count": 13,
   "metadata": {},
   "outputs": [
    {
     "name": "stdout",
     "output_type": "stream",
     "text": [
      "\u001b[31m/ [\"\"]\u001b[39m\n",
      "\u001b[31m├── op1: \u001b[39m\u001b[32m* [\"E\"]\u001b[39m\n",
      "\u001b[31m│        \u001b[39m\u001b[32m├── op1: \u001b[39m\u001b[33m+ [\"I\"]\u001b[39m\n",
      "\u001b[31m│        \u001b[39m\u001b[32m│        \u001b[39m\u001b[33m├── op1: \u001b[39m\u001b[37m2 [\"J\"]\u001b[39m\n",
      "\u001b[31m│        \u001b[39m\u001b[32m│        \u001b[39m\u001b[33m└── op2: \u001b[39m\u001b[37my [\"K\"]\u001b[39m\n",
      "\u001b[31m│        \u001b[39m\u001b[32m└── op2: \u001b[39m\u001b[37m5 [\"M\"]\u001b[39m\n",
      "\u001b[31m└── op2: \u001b[39m\u001b[32m- [\"U\"]\u001b[39m\n",
      "\u001b[31m         \u001b[39m\u001b[32m├── op1: \u001b[39m\u001b[37m4 [\"Y\"]\u001b[39m\n",
      "\u001b[31m         \u001b[39m\u001b[32m└── op2: \u001b[39m\u001b[37mx [\"c\"]\u001b[39m"
     ]
    }
   ],
   "source": [
    "printtree(t1; trav=true)"
   ]
  },
  {
   "cell_type": "markdown",
   "metadata": {},
   "source": [
    "These (unique) codes all encode a single traversal down the tree, they can also be obtained as follows:"
   ]
  },
  {
   "cell_type": "code",
   "execution_count": 14,
   "metadata": {},
   "outputs": [
    {
     "data": {
      "text/plain": [
       "\"I\""
      ]
     },
     "execution_count": 14,
     "metadata": {},
     "output_type": "execute_result"
    }
   ],
   "source": [
    "encode_traversal(t1, 1, 1)"
   ]
  },
  {
   "cell_type": "markdown",
   "metadata": {},
   "source": [
    "`walk` function than performs the traversal following the given code. Here, we start at the root and take the first child two times."
   ]
  },
  {
   "cell_type": "code",
   "execution_count": 15,
   "metadata": {},
   "outputs": [
    {
     "data": {
      "text/plain": [
       "\u001b[31m+\u001b[39m\n",
       "\u001b[31m├── op1: \u001b[39m\u001b[37m2\u001b[39m\n",
       "\u001b[31m└── op2: \u001b[39m\u001b[37my\u001b[39m"
      ]
     },
     "execution_count": 15,
     "metadata": {},
     "output_type": "execute_result"
    }
   ],
   "source": [
    "walk(t1, \"I\")"
   ]
  },
  {
   "cell_type": "markdown",
   "metadata": {},
   "source": [
    "Optionally, one can redefine `getindex` and `setindex!` methods so that we do not have to call `walk` and obtain \"prettier\" code"
   ]
  },
  {
   "cell_type": "code",
   "execution_count": 16,
   "metadata": {},
   "outputs": [],
   "source": [
    "import Base.getindex\n",
    "Base.getindex(t::Operation, i::Integer) = t.ch[i]\n",
    "function Base.getindex(t::Operation, idxs::NTuple{N, Integer}) where N\n",
    "    t.ch[first(idxs)][idxs[2:end]...]\n",
    "end\n",
    "Base.getindex(t::Operation, idxs::Integer...) = t[idxs]\n",
    "Base.getindex(t::Expression, i::AbstractString) = walk(t, i)\n",
    "Base.setindex!(t::Operation, e::Expression, i::Integer) = t.ch[i] = e\n",
    "function Base.setindex!(t::Operation, e::Expression, idxs::NTuple{N, Integer}) where N\n",
    "    t[idxs[1:end-1]...].ch[last(idxs)] = e\n",
    "end\n",
    "Base.setindex!(t::Operation, e::Expression, idxs::Integer...) = t[idxs] = e"
   ]
  },
  {
   "cell_type": "markdown",
   "metadata": {},
   "source": [
    "All four below are equivalent"
   ]
  },
  {
   "cell_type": "code",
   "execution_count": 18,
   "metadata": {},
   "outputs": [
    {
     "data": {
      "text/plain": [
       "true"
      ]
     },
     "execution_count": 18,
     "metadata": {},
     "output_type": "execute_result"
    }
   ],
   "source": [
    "t1[1,1] === t1[1][1] == t1[encode_traversal(t1, 1, 1)] == t1[\"I\"]"
   ]
  },
  {
   "cell_type": "markdown",
   "metadata": {},
   "source": [
    "Same here:"
   ]
  },
  {
   "cell_type": "code",
   "execution_count": 19,
   "metadata": {},
   "outputs": [
    {
     "name": "stdout",
     "output_type": "stream",
     "text": [
      "\u001b[31m+\u001b[39m\n",
      "\u001b[31m├── op1: \u001b[39m\u001b[37m1\u001b[39m\n",
      "\u001b[31m└── op2: \u001b[39m\u001b[32m/\u001b[39m\n",
      "\u001b[31m         \u001b[39m\u001b[32m├── op1: \u001b[39m\u001b[37m1\u001b[39m\n",
      "\u001b[31m         \u001b[39m\u001b[32m└── op2: \u001b[39m\u001b[33m+\u001b[39m\n",
      "\u001b[31m         \u001b[39m\u001b[32m         \u001b[39m\u001b[33m├── op1: \u001b[39m\u001b[37m1\u001b[39m\n",
      "\u001b[31m         \u001b[39m\u001b[32m         \u001b[39m\u001b[33m└── op2: \u001b[39m\u001b[36m/\u001b[39m\n",
      "\u001b[31m         \u001b[39m\u001b[32m         \u001b[39m\u001b[33m         \u001b[39m\u001b[36m├── op1: \u001b[39m\u001b[37m1\u001b[39m\n",
      "\u001b[31m         \u001b[39m\u001b[32m         \u001b[39m\u001b[33m         \u001b[39m\u001b[36m└── op2: \u001b[39m\u001b[35m+\u001b[39m\n",
      "\u001b[31m         \u001b[39m\u001b[32m         \u001b[39m\u001b[33m         \u001b[39m\u001b[36m         \u001b[39m\u001b[35m⋮\u001b[39m"
     ]
    }
   ],
   "source": [
    "t_golden = @infix 1 + 1/0\n",
    "# all three equivalent\n",
    "t_golden[2,2] = t_golden;\n",
    "t_golden[2][2] = t_golden;\n",
    "t_golden.ch[2][2] = t_golden;\n",
    "printtree(t_golden; trunc=5)"
   ]
  },
  {
   "cell_type": "markdown",
   "metadata": {},
   "source": [
    "`list_traversal` prints all codes present in the current tree"
   ]
  },
  {
   "cell_type": "code",
   "execution_count": 17,
   "metadata": {},
   "outputs": [
    {
     "data": {
      "text/plain": [
       "9-element Array{String,1}:\n",
       " \"\"\n",
       " \"E\"\n",
       " \"I\"\n",
       " \"J\"\n",
       " \"K\"\n",
       " \"M\"\n",
       " \"U\"\n",
       " \"Y\"\n",
       " \"c\""
      ]
     },
     "execution_count": 17,
     "metadata": {},
     "output_type": "execute_result"
    }
   ],
   "source": [
    "list_traversal(t1)"
   ]
  },
  {
   "cell_type": "markdown",
   "metadata": {},
   "source": [
    "### Iterators"
   ]
  },
  {
   "cell_type": "markdown",
   "metadata": {},
   "source": [
    "Iterators makes it possible to iterate over one or more trees following certain iteration rules. There are four basic types of iterators:\n",
    "\n",
    "- `NodeIterator(t; complete::Bool=true, order::AbstractOrder=PreOrder())` iterates over all nodes in the tree\n",
    "- `LeafIterator(t; complete::Bool=true, order::AbstractOrder=PreOrder())` iterates over all leaves (either nodes marked with `LeafNode()` trait or `InnerNode()` with zero children)\n",
    "- `TypeIterator(t, type::Type; complete::Bool=true, order::AbstractOrder=PreOrder())` iterates over all nodes of the given type\n",
    "- `PredicateIterator(t, f::Function; complete::Bool=true, order::AbstractOrder=PreOrder())` iterates over all nodes, such that `f(n)` returns true"
   ]
  },
  {
   "cell_type": "markdown",
   "metadata": {},
   "source": [
    "#### Basic iterations"
   ]
  },
  {
   "cell_type": "code",
   "execution_count": 20,
   "metadata": {},
   "outputs": [
    {
     "data": {
      "text/plain": [
       "\u001b[31m/\u001b[39m\n",
       "\u001b[31m├── op1: \u001b[39m\u001b[32m*\u001b[39m\n",
       "\u001b[31m│        \u001b[39m\u001b[32m├── op1: \u001b[39m\u001b[33m+\u001b[39m\n",
       "\u001b[31m│        \u001b[39m\u001b[32m│        \u001b[39m\u001b[33m├── op1: \u001b[39m\u001b[37m2\u001b[39m\n",
       "\u001b[31m│        \u001b[39m\u001b[32m│        \u001b[39m\u001b[33m└── op2: \u001b[39m\u001b[37my\u001b[39m\n",
       "\u001b[31m│        \u001b[39m\u001b[32m└── op2: \u001b[39m\u001b[37m5\u001b[39m\n",
       "\u001b[31m└── op2: \u001b[39m\u001b[32m-\u001b[39m\n",
       "\u001b[31m         \u001b[39m\u001b[32m├── op1: \u001b[39m\u001b[37m4\u001b[39m\n",
       "\u001b[31m         \u001b[39m\u001b[32m└── op2: \u001b[39m\u001b[37mx\u001b[39m"
      ]
     },
     "execution_count": 20,
     "metadata": {},
     "output_type": "execute_result"
    }
   ],
   "source": [
    "t1"
   ]
  },
  {
   "cell_type": "code",
   "execution_count": 21,
   "metadata": {},
   "outputs": [
    {
     "data": {
      "text/plain": [
       "\u001b[31m-\u001b[39m\n",
       "\u001b[31m├── op1: \u001b[39m\u001b[32m+\u001b[39m\n",
       "\u001b[31m│        \u001b[39m\u001b[32m├── op1: \u001b[39m\u001b[33m/\u001b[39m\n",
       "\u001b[31m│        \u001b[39m\u001b[32m│        \u001b[39m\u001b[33m├── op1: \u001b[39m\u001b[37m10\u001b[39m\n",
       "\u001b[31m│        \u001b[39m\u001b[32m│        \u001b[39m\u001b[33m└── op2: \u001b[39m\u001b[37my\u001b[39m\n",
       "\u001b[31m│        \u001b[39m\u001b[32m└── op2: \u001b[39m\u001b[37m5\u001b[39m\n",
       "\u001b[31m└── op2: \u001b[39m\u001b[32m*\u001b[39m\n",
       "\u001b[31m         \u001b[39m\u001b[32m├── op1: \u001b[39m\u001b[37m8\u001b[39m\n",
       "\u001b[31m         \u001b[39m\u001b[32m└── op2: \u001b[39m\u001b[37mz\u001b[39m"
      ]
     },
     "execution_count": 21,
     "metadata": {},
     "output_type": "execute_result"
    }
   ],
   "source": [
    "t2"
   ]
  },
  {
   "cell_type": "code",
   "execution_count": 22,
   "metadata": {},
   "outputs": [
    {
     "data": {
      "text/plain": [
       "\u001b[31m+\u001b[39m\n",
       "\u001b[31m├── op1: \u001b[39m\u001b[37mx\u001b[39m\n",
       "\u001b[31m└── op2: \u001b[39m\u001b[37my\u001b[39m"
      ]
     },
     "execution_count": 22,
     "metadata": {},
     "output_type": "execute_result"
    }
   ],
   "source": [
    "t3 = @infix x+y"
   ]
  },
  {
   "cell_type": "code",
   "execution_count": 23,
   "metadata": {},
   "outputs": [
    {
     "data": {
      "text/plain": [
       "9-element Array{Expression,1}:\n",
       " /\n",
       " *\n",
       " +\n",
       " 2\n",
       " y\n",
       " 5\n",
       " -\n",
       " 4\n",
       " x"
      ]
     },
     "execution_count": 23,
     "metadata": {},
     "output_type": "execute_result"
    }
   ],
   "source": [
    "NodeIterator(t1) |> collect"
   ]
  },
  {
   "cell_type": "code",
   "execution_count": 24,
   "metadata": {},
   "outputs": [
    {
     "data": {
      "text/plain": [
       "5-element Array{Expression,1}:\n",
       " 2\n",
       " y\n",
       " 5\n",
       " 4\n",
       " x"
      ]
     },
     "execution_count": 24,
     "metadata": {},
     "output_type": "execute_result"
    }
   ],
   "source": [
    "LeafIterator(t1) |> collect"
   ]
  },
  {
   "cell_type": "code",
   "execution_count": 25,
   "metadata": {},
   "outputs": [
    {
     "data": {
      "text/plain": [
       "2-element Array{Variable,1}:\n",
       " y\n",
       " x"
      ]
     },
     "execution_count": 25,
     "metadata": {},
     "output_type": "execute_result"
    }
   ],
   "source": [
    "TypeIterator(t1, Variable) |> collect"
   ]
  },
  {
   "cell_type": "code",
   "execution_count": 26,
   "metadata": {},
   "outputs": [
    {
     "data": {
      "text/plain": [
       "5-element Array{Expression,1}:\n",
       " +\n",
       " y\n",
       " 5\n",
       " -\n",
       " x"
      ]
     },
     "execution_count": 26,
     "metadata": {},
     "output_type": "execute_result"
    }
   ],
   "source": [
    "pred1(n::Operation) = n.op ∈ [+, -]\n",
    "pred1(n::Value) = isodd(n.x)\n",
    "pred1(n) = true\n",
    "PredicateIterator(t1, pred1) |> collect"
   ]
  },
  {
   "cell_type": "markdown",
   "metadata": {},
   "source": [
    "#### Iteration over multiple trees\n",
    "\n",
    "If `t` can is a tuple of trees, then iterators iterate over tuples of nodes.\n",
    "\n",
    "In this case, if a single type value is provided to a `TypeIterator`, **all** nodes in the returned tuples are of this types. If a tuple of types is provided, they are matched sequentially.\n",
    "\n",
    "`PredicateIterators` must in this case accept a tuple of arguments, which correspond to nodes in every tree on the input.\n",
    "\n",
    "What if the trees we iterate over have different structure? The behavior is in this case controlled by the `complete` keyword argument. If `complete` is `false`, than once we have no way to continue in one of the trees (we arrived at a leaf), the iteration ends. If `complete` is `true`, the iteration continues until at least one tree has remaining nodes and `nothing` is returned for others.\n",
    "\n",
    "You can imagine this as stacking the input trees on top of each other and filling `nothing` to blank spaces if `complete` is `true`, or cutting away incomplete branches if `complete` is `false`.\n",
    "\n",
    "To avoid ambiguity, children are always processed in the sequential order if `children` returns `Tuple`, and in the sorted order of names/keys if `children` function returns `NamedTuple`. Iterators then pair matching children names/keys together and we iterate either over the intersection (`complete=false`) or the union (`complete=true`) of all keys."
   ]
  },
  {
   "cell_type": "code",
   "execution_count": 27,
   "metadata": {},
   "outputs": [
    {
     "data": {
      "text/plain": [
       "9-element Array{Tuple{Expression,Expression},1}:\n",
       " (/, -)\n",
       " (*, +)\n",
       " (+, /)\n",
       " (2, 10)\n",
       " (y, y)\n",
       " (5, 5)\n",
       " (-, *)\n",
       " (4, 8)\n",
       " (x, z)"
      ]
     },
     "execution_count": 27,
     "metadata": {},
     "output_type": "execute_result"
    }
   ],
   "source": [
    "NodeIterator((t1, t2)) |> collect"
   ]
  },
  {
   "cell_type": "code",
   "execution_count": 28,
   "metadata": {},
   "outputs": [
    {
     "data": {
      "text/plain": [
       "3-element Array{Tuple{Operation,Expression},1}:\n",
       " (/, +)\n",
       " (*, x)\n",
       " (-, y)"
      ]
     },
     "execution_count": 28,
     "metadata": {},
     "output_type": "execute_result"
    }
   ],
   "source": [
    "NodeIterator((t1, t3); complete=false) |> collect"
   ]
  },
  {
   "cell_type": "code",
   "execution_count": 29,
   "metadata": {},
   "outputs": [
    {
     "data": {
      "text/plain": [
       "9-element Array{Tuple{Expression,Any},1}:\n",
       " (/, +)\n",
       " (*, x)\n",
       " (+, nothing)\n",
       " (2, nothing)\n",
       " (y, nothing)\n",
       " (5, nothing)\n",
       " (-, y)\n",
       " (4, nothing)\n",
       " (x, nothing)"
      ]
     },
     "execution_count": 29,
     "metadata": {},
     "output_type": "execute_result"
    }
   ],
   "source": [
    "NodeIterator((t1, t3); complete=true) |> collect"
   ]
  },
  {
   "cell_type": "code",
   "execution_count": 30,
   "metadata": {},
   "outputs": [
    {
     "data": {
      "text/plain": [
       "0-element Array{Any,1}"
      ]
     },
     "execution_count": 30,
     "metadata": {},
     "output_type": "execute_result"
    }
   ],
   "source": [
    "LeafIterator((t1, t3); complete=false) |> collect"
   ]
  },
  {
   "cell_type": "code",
   "execution_count": 31,
   "metadata": {},
   "outputs": [
    {
     "data": {
      "text/plain": [
       "5-element Array{Tuple{Expression,Nothing},1}:\n",
       " (2, nothing)\n",
       " (y, nothing)\n",
       " (5, nothing)\n",
       " (4, nothing)\n",
       " (x, nothing)"
      ]
     },
     "execution_count": 31,
     "metadata": {},
     "output_type": "execute_result"
    }
   ],
   "source": [
    "LeafIterator((t1, t3); complete=true) |> collect"
   ]
  },
  {
   "cell_type": "code",
   "execution_count": 32,
   "metadata": {},
   "outputs": [
    {
     "data": {
      "text/plain": [
       "2-element Array{Tuple{Value,Value},1}:\n",
       " (5, 5)\n",
       " (4, 8)"
      ]
     },
     "execution_count": 32,
     "metadata": {},
     "output_type": "execute_result"
    }
   ],
   "source": [
    "pred2(tup::Tuple{Value, Value}) = all(n -> n.x > 3, tup)\n",
    "pred2(tup) = false\n",
    "PredicateIterator((t1, t2), pred2) |> collect"
   ]
  },
  {
   "cell_type": "code",
   "execution_count": 33,
   "metadata": {},
   "outputs": [
    {
     "data": {
      "text/plain": [
       "2-element Array{Tuple{Variable,Variable},1}:\n",
       " (y, y)\n",
       " (x, z)"
      ]
     },
     "execution_count": 33,
     "metadata": {},
     "output_type": "execute_result"
    }
   ],
   "source": [
    "TypeIterator((t1, t2), Variable) |> collect"
   ]
  },
  {
   "cell_type": "code",
   "execution_count": 34,
   "metadata": {},
   "outputs": [
    {
     "data": {
      "text/plain": [
       "2-element Array{Tuple{Operation,Variable},1}:\n",
       " (*, x)\n",
       " (-, y)"
      ]
     },
     "execution_count": 34,
     "metadata": {},
     "output_type": "execute_result"
    }
   ],
   "source": [
    "TypeIterator((t1, t3), (Operation, Variable)) |> collect"
   ]
  },
  {
   "cell_type": "markdown",
   "metadata": {},
   "source": [
    "#### Iteration order\n",
    "\n",
    "`order` specifies iteration order and can be one of the following:\n",
    "- `PreOrder()` firstly returns parent(s) and then all children processed sequentially\n",
    "- `PostOrder()` firstly processes children and then parent(s)\n",
    "- `LevelOrder()` performs `BFS` traversal"
   ]
  },
  {
   "cell_type": "code",
   "execution_count": 35,
   "metadata": {},
   "outputs": [
    {
     "data": {
      "text/plain": [
       "9-element Array{Tuple{Expression,Any},1}:\n",
       " (/, +)\n",
       " (*, x)\n",
       " (+, nothing)\n",
       " (2, nothing)\n",
       " (y, nothing)\n",
       " (5, nothing)\n",
       " (-, y)\n",
       " (4, nothing)\n",
       " (x, nothing)"
      ]
     },
     "execution_count": 35,
     "metadata": {},
     "output_type": "execute_result"
    }
   ],
   "source": [
    "#default\n",
    "NodeIterator((t1, t3); order=PreOrder()) |> collect"
   ]
  },
  {
   "cell_type": "code",
   "execution_count": 36,
   "metadata": {},
   "outputs": [
    {
     "data": {
      "text/plain": [
       "9-element Array{Tuple{Expression,Any},1}:\n",
       " (2, nothing)\n",
       " (y, nothing)\n",
       " (+, nothing)\n",
       " (5, nothing)\n",
       " (*, x)\n",
       " (4, nothing)\n",
       " (x, nothing)\n",
       " (-, y)\n",
       " (/, +)"
      ]
     },
     "execution_count": 36,
     "metadata": {},
     "output_type": "execute_result"
    }
   ],
   "source": [
    "NodeIterator((t1, t3); order=PostOrder()) |> collect"
   ]
  },
  {
   "cell_type": "code",
   "execution_count": 37,
   "metadata": {},
   "outputs": [
    {
     "data": {
      "text/plain": [
       "9-element Array{Tuple{Expression,Any},1}:\n",
       " (/, +)\n",
       " (*, x)\n",
       " (-, y)\n",
       " (+, nothing)\n",
       " (5, nothing)\n",
       " (4, nothing)\n",
       " (x, nothing)\n",
       " (2, nothing)\n",
       " (y, nothing)"
      ]
     },
     "execution_count": 37,
     "metadata": {},
     "output_type": "execute_result"
    }
   ],
   "source": [
    "NodeIterator((t1, t3); order=LevelOrder()) |> collect"
   ]
  },
  {
   "cell_type": "markdown",
   "metadata": {},
   "source": [
    "### Maps"
   ]
  },
  {
   "cell_type": "markdown",
   "metadata": {},
   "source": [
    "With maps, we can not only iterate, but also modify the trees. Firstly, let's talk about modifying versions, which are `treemap!`, `typemap!`, `leafmap` and `predicatemap!`.\n",
    "\n",
    "Using these maps, one can modify data stored in nodes. For instance, we can increment values in `Value` nodes. Nevertheless, **modifying the tree structure** (adding or removing children) is not possible and may lead to unexpected behavior.\n",
    "\n",
    "Each of the maps take a function as the first argument, otherwise the call is exactly the same as in case of iterators, including `complete` and `order` keyword arguments.\n",
    "\n",
    "Analogically to iterators, `treemap!` applies the function in the first argument to all (pairs of) nodes in the tree, `leafmap!` to all leaves, `typemap!` to all (pairs of) nodes of the given type(s), and `predicatemap!` to all (pairs of) nodes satisfying the provided predicate function.\n",
    "\n",
    "Maps accepted tuples of trees instead of a single tree on the input as well. In this case, the function in the first argument must accept a tuple of nodes, not a single node."
   ]
  },
  {
   "cell_type": "code",
   "execution_count": 38,
   "metadata": {},
   "outputs": [
    {
     "data": {
      "text/plain": [
       "\u001b[31m/\u001b[39m\n",
       "\u001b[31m├── op1: \u001b[39m\u001b[32m*\u001b[39m\n",
       "\u001b[31m│        \u001b[39m\u001b[32m├── op1: \u001b[39m\u001b[33m+\u001b[39m\n",
       "\u001b[31m│        \u001b[39m\u001b[32m│        \u001b[39m\u001b[33m├── op1: \u001b[39m\u001b[37m2\u001b[39m\n",
       "\u001b[31m│        \u001b[39m\u001b[32m│        \u001b[39m\u001b[33m└── op2: \u001b[39m\u001b[37my\u001b[39m\n",
       "\u001b[31m│        \u001b[39m\u001b[32m└── op2: \u001b[39m\u001b[37m5\u001b[39m\n",
       "\u001b[31m└── op2: \u001b[39m\u001b[32m-\u001b[39m\n",
       "\u001b[31m         \u001b[39m\u001b[32m├── op1: \u001b[39m\u001b[37m4\u001b[39m\n",
       "\u001b[31m         \u001b[39m\u001b[32m└── op2: \u001b[39m\u001b[37mx\u001b[39m"
      ]
     },
     "execution_count": 38,
     "metadata": {},
     "output_type": "execute_result"
    }
   ],
   "source": [
    "t1"
   ]
  },
  {
   "cell_type": "markdown",
   "metadata": {},
   "source": [
    "Increment all constants by 1"
   ]
  },
  {
   "cell_type": "code",
   "execution_count": 39,
   "metadata": {},
   "outputs": [
    {
     "data": {
      "text/plain": [
       "\u001b[31m/\u001b[39m\n",
       "\u001b[31m├── op1: \u001b[39m\u001b[32m*\u001b[39m\n",
       "\u001b[31m│        \u001b[39m\u001b[32m├── op1: \u001b[39m\u001b[33m+\u001b[39m\n",
       "\u001b[31m│        \u001b[39m\u001b[32m│        \u001b[39m\u001b[33m├── op1: \u001b[39m\u001b[37m3\u001b[39m\n",
       "\u001b[31m│        \u001b[39m\u001b[32m│        \u001b[39m\u001b[33m└── op2: \u001b[39m\u001b[37my\u001b[39m\n",
       "\u001b[31m│        \u001b[39m\u001b[32m└── op2: \u001b[39m\u001b[37m6\u001b[39m\n",
       "\u001b[31m└── op2: \u001b[39m\u001b[32m-\u001b[39m\n",
       "\u001b[31m         \u001b[39m\u001b[32m├── op1: \u001b[39m\u001b[37m5\u001b[39m\n",
       "\u001b[31m         \u001b[39m\u001b[32m└── op2: \u001b[39m\u001b[37mx\u001b[39m"
      ]
     },
     "execution_count": 39,
     "metadata": {},
     "output_type": "execute_result"
    }
   ],
   "source": [
    "treemap!(t1) do node\n",
    "    if node isa Value\n",
    "        node.x += 1\n",
    "    end\n",
    "end\n",
    "t1"
   ]
  },
  {
   "cell_type": "markdown",
   "metadata": {},
   "source": [
    "Or, equivalently"
   ]
  },
  {
   "cell_type": "code",
   "execution_count": 40,
   "metadata": {},
   "outputs": [
    {
     "data": {
      "text/plain": [
       "\u001b[31m/\u001b[39m\n",
       "\u001b[31m├── op1: \u001b[39m\u001b[32m*\u001b[39m\n",
       "\u001b[31m│        \u001b[39m\u001b[32m├── op1: \u001b[39m\u001b[33m+\u001b[39m\n",
       "\u001b[31m│        \u001b[39m\u001b[32m│        \u001b[39m\u001b[33m├── op1: \u001b[39m\u001b[37m4\u001b[39m\n",
       "\u001b[31m│        \u001b[39m\u001b[32m│        \u001b[39m\u001b[33m└── op2: \u001b[39m\u001b[37my\u001b[39m\n",
       "\u001b[31m│        \u001b[39m\u001b[32m└── op2: \u001b[39m\u001b[37m7\u001b[39m\n",
       "\u001b[31m└── op2: \u001b[39m\u001b[32m-\u001b[39m\n",
       "\u001b[31m         \u001b[39m\u001b[32m├── op1: \u001b[39m\u001b[37m6\u001b[39m\n",
       "\u001b[31m         \u001b[39m\u001b[32m└── op2: \u001b[39m\u001b[37mx\u001b[39m"
      ]
     },
     "execution_count": 40,
     "metadata": {},
     "output_type": "execute_result"
    }
   ],
   "source": [
    "typemap!(t1, Value) do node\n",
    "    node.x += 1\n",
    "end\n",
    "t1"
   ]
  },
  {
   "cell_type": "markdown",
   "metadata": {},
   "source": [
    "Or equivalently"
   ]
  },
  {
   "cell_type": "code",
   "execution_count": 41,
   "metadata": {},
   "outputs": [
    {
     "data": {
      "text/plain": [
       "\u001b[31m/\u001b[39m\n",
       "\u001b[31m├── op1: \u001b[39m\u001b[32m*\u001b[39m\n",
       "\u001b[31m│        \u001b[39m\u001b[32m├── op1: \u001b[39m\u001b[33m+\u001b[39m\n",
       "\u001b[31m│        \u001b[39m\u001b[32m│        \u001b[39m\u001b[33m├── op1: \u001b[39m\u001b[37m5\u001b[39m\n",
       "\u001b[31m│        \u001b[39m\u001b[32m│        \u001b[39m\u001b[33m└── op2: \u001b[39m\u001b[37my\u001b[39m\n",
       "\u001b[31m│        \u001b[39m\u001b[32m└── op2: \u001b[39m\u001b[37m8\u001b[39m\n",
       "\u001b[31m└── op2: \u001b[39m\u001b[32m-\u001b[39m\n",
       "\u001b[31m         \u001b[39m\u001b[32m├── op1: \u001b[39m\u001b[37m7\u001b[39m\n",
       "\u001b[31m         \u001b[39m\u001b[32m└── op2: \u001b[39m\u001b[37mx\u001b[39m"
      ]
     },
     "execution_count": 41,
     "metadata": {},
     "output_type": "execute_result"
    }
   ],
   "source": [
    "predicatemap!(t1, n -> n isa Value) do node\n",
    "    node.x += 1\n",
    "end\n",
    "t1"
   ]
  },
  {
   "cell_type": "code",
   "execution_count": 42,
   "metadata": {},
   "outputs": [
    {
     "data": {
      "text/plain": [
       "\u001b[31m/\u001b[39m\n",
       "\u001b[31m├── op1: \u001b[39m\u001b[32m*\u001b[39m\n",
       "\u001b[31m│        \u001b[39m\u001b[32m├── op1: \u001b[39m\u001b[33m+\u001b[39m\n",
       "\u001b[31m│        \u001b[39m\u001b[32m│        \u001b[39m\u001b[33m├── op1: \u001b[39m\u001b[37m5\u001b[39m\n",
       "\u001b[31m│        \u001b[39m\u001b[32m│        \u001b[39m\u001b[33m└── op2: \u001b[39m\u001b[37mz\u001b[39m\n",
       "\u001b[31m│        \u001b[39m\u001b[32m└── op2: \u001b[39m\u001b[37m8\u001b[39m\n",
       "\u001b[31m└── op2: \u001b[39m\u001b[32m-\u001b[39m\n",
       "\u001b[31m         \u001b[39m\u001b[32m├── op1: \u001b[39m\u001b[37m7\u001b[39m\n",
       "\u001b[31m         \u001b[39m\u001b[32m└── op2: \u001b[39m\u001b[37mz\u001b[39m"
      ]
     },
     "execution_count": 42,
     "metadata": {},
     "output_type": "execute_result"
    }
   ],
   "source": [
    "# do it only in leaves\n",
    "leafmap!(t1) do node\n",
    "    if node isa Variable\n",
    "        node.x = :z\n",
    "    end\n",
    "end\n",
    "t1"
   ]
  },
  {
   "cell_type": "markdown",
   "metadata": {},
   "source": [
    "multiple trees, `complete` argument, or different `order` all supported as well"
   ]
  },
  {
   "cell_type": "code",
   "execution_count": 43,
   "metadata": {},
   "outputs": [
    {
     "name": "stdout",
     "output_type": "stream",
     "text": [
      "n1 = /\n",
      "n2 = -\n",
      "n1 = *\n",
      "n2 = +\n",
      "n1 = -\n",
      "n2 = *\n",
      "n1 = +\n",
      "n2 = /\n",
      "n1 = 8\n",
      "n2 = 5\n",
      "n1 = 7\n",
      "n2 = 8\n",
      "n1 = z\n",
      "n2 = z\n",
      "n1 = 5\n",
      "n2 = 10\n",
      "n1 = z\n",
      "n2 = y\n"
     ]
    }
   ],
   "source": [
    "treemap!((t1, t2); complete=true, order=LevelOrder()) do (n1, n2)\n",
    "    @show n1\n",
    "    @show n2\n",
    "end"
   ]
  },
  {
   "cell_type": "markdown",
   "metadata": {},
   "source": [
    "Using `treemap` (without `!`), we do not modify the existing tree, but construct a completely new tree. The signature is completely the same . Currently, only `PostOrder()` treemap` is supported, in which we firstly map (pairs of) children and then using the mapped children and current nodes create a new node. Thus, the function given as the first argument should accept a tuple `(n, chs)` of node (subtree) `n` and a tuple of mapped children `chs`. Note that the current (unmapped) children are still accessible through the subtree reference `n`. In case when multiple trees are mapped, `n` is a tuple of subtree references and `chs` is a tuple of tuples of children.\n",
    "\n",
    "In the example below, we evaluate the syntax tree (create a tree of one `Value` node)"
   ]
  },
  {
   "cell_type": "code",
   "execution_count": 44,
   "metadata": {},
   "outputs": [
    {
     "data": {
      "text/plain": [
       "\u001b[37m16.0\u001b[39m"
      ]
     },
     "execution_count": 44,
     "metadata": {},
     "output_type": "execute_result"
    }
   ],
   "source": [
    "assignment = Dict(:x => 1, :y => 2, :z => 3)\n",
    "treemap(t1) do n, chs\n",
    "    if n isa Value\n",
    "        return n\n",
    "    elseif n isa Variable\n",
    "        return Value(assignment[n.x])\n",
    "    else\n",
    "        x = @eval $(n.op)($((ch.x for ch in chs)...))\n",
    "        return Value(x)\n",
    "    end\n",
    "end"
   ]
  }
 ],
 "metadata": {
  "kernelspec": {
   "display_name": "Julia 1.4.1",
   "language": "julia",
   "name": "julia-1.4"
  },
  "language_info": {
   "file_extension": ".jl",
   "mimetype": "application/julia",
   "name": "julia",
   "version": "1.4.1"
  }
 },
 "nbformat": 4,
 "nbformat_minor": 4
}
